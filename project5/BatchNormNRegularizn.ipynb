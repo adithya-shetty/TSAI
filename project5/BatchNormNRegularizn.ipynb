{
  "nbformat": 4,
  "nbformat_minor": 0,
  "metadata": {
    "colab": {
      "name": "BatchNormNRegularizn.ipynb",
      "version": "0.3.2",
      "provenance": [],
      "collapsed_sections": []
    },
    "kernelspec": {
      "name": "python3",
      "display_name": "Python 3"
    },
    "accelerator": "GPU"
  },
  "cells": [
    {
      "cell_type": "markdown",
      "metadata": {
        "id": "aNyZv-Ec52ot",
        "colab_type": "text"
      },
      "source": [
        "# **Import Libraries and modules**"
      ]
    },
    {
      "cell_type": "markdown",
      "metadata": {
        "id": "VuGWcUSJ-efk",
        "colab_type": "text"
      },
      "source": [
        "### Install Keras module for python and import it to run basic keras functions for model building."
      ]
    },
    {
      "cell_type": "code",
      "metadata": {
        "id": "3m3w1Cw49Zkt",
        "colab_type": "code",
        "outputId": "c9e011c0-3097-4206-ca62-a452db59f503",
        "colab": {
          "base_uri": "https://localhost:8080/",
          "height": 34
        }
      },
      "source": [
        "# https://keras.io/\n",
        "!pip install -q keras\n",
        "import keras"
      ],
      "execution_count": 1,
      "outputs": [
        {
          "output_type": "stream",
          "text": [
            "Using TensorFlow backend.\n"
          ],
          "name": "stderr"
        }
      ]
    },
    {
      "cell_type": "markdown",
      "metadata": {
        "id": "i-wujMov-fPZ",
        "colab_type": "text"
      },
      "source": [
        "### Import Numpy library which is usually used to store data. Also import other support libraries in keras for model building and predefined dataset loading."
      ]
    },
    {
      "cell_type": "code",
      "metadata": {
        "id": "Eso6UHE080D4",
        "colab_type": "code",
        "colab": {}
      },
      "source": [
        "import numpy as np\n",
        "\n",
        "from keras.models import Sequential\n",
        "from keras.layers import Dense, Dropout, Activation, Flatten, Add\n",
        "from keras.layers import Convolution2D, MaxPooling2D\n",
        "from keras.utils import np_utils\n",
        "\n",
        "from keras.datasets import mnist"
      ],
      "execution_count": 0,
      "outputs": []
    },
    {
      "cell_type": "markdown",
      "metadata": {
        "id": "zByEi95J86RD",
        "colab_type": "text"
      },
      "source": [
        "### Load pre-shuffled MNIST data into train and test sets"
      ]
    },
    {
      "cell_type": "code",
      "metadata": {
        "id": "7eRM0QWN83PV",
        "colab_type": "code",
        "colab": {
          "base_uri": "https://localhost:8080/",
          "height": 52
        },
        "outputId": "8d90a5ad-3d21-4d23-f4f0-a5d44955125d"
      },
      "source": [
        "(X_train, y_train), (X_test, y_test) = mnist.load_data()\n",
        "test_features = X_test[:]"
      ],
      "execution_count": 3,
      "outputs": [
        {
          "output_type": "stream",
          "text": [
            "Downloading data from https://s3.amazonaws.com/img-datasets/mnist.npz\n",
            "11493376/11490434 [==============================] - 0s 0us/step\n"
          ],
          "name": "stdout"
        }
      ]
    },
    {
      "cell_type": "markdown",
      "metadata": {
        "id": "Zz4pK7Cf-i21",
        "colab_type": "text"
      },
      "source": [
        "### Matplotlib is a visualization tool of python which can be used to plot graphs and display images. Here we first print the total number of images used for training. Then import matplotlib library and show the first training image."
      ]
    },
    {
      "cell_type": "code",
      "metadata": {
        "id": "4a4Be72j8-ZC",
        "colab_type": "code",
        "outputId": "93714dcc-0e8d-4357-bf9f-ddbbf91ce67e",
        "colab": {
          "base_uri": "https://localhost:8080/",
          "height": 304
        }
      },
      "source": [
        "print (X_train.shape)\n",
        "from matplotlib import pyplot as plt\n",
        "%matplotlib inline\n",
        "plt.imshow(X_train[0])"
      ],
      "execution_count": 4,
      "outputs": [
        {
          "output_type": "stream",
          "text": [
            "(60000, 28, 28)\n"
          ],
          "name": "stdout"
        },
        {
          "output_type": "execute_result",
          "data": {
            "text/plain": [
              "<matplotlib.image.AxesImage at 0x7f7836560e80>"
            ]
          },
          "metadata": {
            "tags": []
          },
          "execution_count": 4
        },
        {
          "output_type": "display_data",
          "data": {
            "image/png": "[encoded data removed]",
            "text/plain": [
              "<Figure size 432x288 with 1 Axes>"
            ]
          },
          "metadata": {
            "tags": []
          }
        }
      ]
    },
    {
      "cell_type": "markdown",
      "metadata": {
        "id": "I4F7Bxaa-jsy",
        "colab_type": "text"
      },
      "source": [
        "### As the dataset contains single channel images, we reshape array to correct the input channel dimension."
      ]
    },
    {
      "cell_type": "code",
      "metadata": {
        "id": "dkmprriw9AnZ",
        "colab_type": "code",
        "colab": {}
      },
      "source": [
        "X_train = X_train.reshape(X_train.shape[0], 28, 28,1)\n",
        "X_test = X_test.reshape(X_test.shape[0], 28, 28,1)"
      ],
      "execution_count": 0,
      "outputs": []
    },
    {
      "cell_type": "markdown",
      "metadata": {
        "id": "Yw4zfyXA-lMg",
        "colab_type": "text"
      },
      "source": [
        "### Normalize values between 0 to 1"
      ]
    },
    {
      "cell_type": "code",
      "metadata": {
        "id": "X2m4YS4E9CRh",
        "colab_type": "code",
        "colab": {}
      },
      "source": [
        "X_train = X_train.astype('float32')\n",
        "X_test = X_test.astype('float32')\n",
        "X_train /= 255\n",
        "X_test /= 255"
      ],
      "execution_count": 0,
      "outputs": []
    },
    {
      "cell_type": "markdown",
      "metadata": {
        "id": "rH6kaAt2-mH1",
        "colab_type": "text"
      },
      "source": [
        "### Show labels of last 10 train data"
      ]
    },
    {
      "cell_type": "code",
      "metadata": {
        "id": "0Mn0vAYD9DvB",
        "colab_type": "code",
        "outputId": "5016302f-cd14-4724-e7b5-598371da6d1f",
        "colab": {
          "base_uri": "https://localhost:8080/",
          "height": 34
        }
      },
      "source": [
        "y_train[:10]"
      ],
      "execution_count": 7,
      "outputs": [
        {
          "output_type": "execute_result",
          "data": {
            "text/plain": [
              "array([5, 0, 4, 1, 9, 2, 1, 3, 1, 4], dtype=uint8)"
            ]
          },
          "metadata": {
            "tags": []
          },
          "execution_count": 7
        }
      ]
    },
    {
      "cell_type": "markdown",
      "metadata": {
        "id": "CR-bHYIT-m3E",
        "colab_type": "text"
      },
      "source": [
        "### Convert 1-dimensional class arrays to 10-dimensional class matrices"
      ]
    },
    {
      "cell_type": "code",
      "metadata": {
        "id": "ZG8JiXR39FHC",
        "colab_type": "code",
        "colab": {}
      },
      "source": [
        "# Convert 1-dimensional class arrays to 10-dimensional class matrices\n",
        "Y_train = np_utils.to_categorical(y_train, 10)\n",
        "Y_test = np_utils.to_categorical(y_test, 10)"
      ],
      "execution_count": 0,
      "outputs": []
    },
    {
      "cell_type": "markdown",
      "metadata": {
        "id": "M2HoAuIP-nfv",
        "colab_type": "text"
      },
      "source": [
        "### Show the matrix converted labels of last 10 images"
      ]
    },
    {
      "cell_type": "code",
      "metadata": {
        "id": "fYlFRvKS9HMB",
        "colab_type": "code",
        "outputId": "27e082d6-7118-433f-a12b-95c54d78f772",
        "colab": {
          "base_uri": "https://localhost:8080/",
          "height": 191
        }
      },
      "source": [
        "Y_train[:10]\n"
      ],
      "execution_count": 9,
      "outputs": [
        {
          "output_type": "execute_result",
          "data": {
            "text/plain": [
              "array([[0., 0., 0., 0., 0., 1., 0., 0., 0., 0.],\n",
              "       [1., 0., 0., 0., 0., 0., 0., 0., 0., 0.],\n",
              "       [0., 0., 0., 0., 1., 0., 0., 0., 0., 0.],\n",
              "       [0., 1., 0., 0., 0., 0., 0., 0., 0., 0.],\n",
              "       [0., 0., 0., 0., 0., 0., 0., 0., 0., 1.],\n",
              "       [0., 0., 1., 0., 0., 0., 0., 0., 0., 0.],\n",
              "       [0., 1., 0., 0., 0., 0., 0., 0., 0., 0.],\n",
              "       [0., 0., 0., 1., 0., 0., 0., 0., 0., 0.],\n",
              "       [0., 1., 0., 0., 0., 0., 0., 0., 0., 0.],\n",
              "       [0., 0., 0., 0., 1., 0., 0., 0., 0., 0.]], dtype=float32)"
            ]
          },
          "metadata": {
            "tags": []
          },
          "execution_count": 9
        }
      ]
    },
    {
      "cell_type": "markdown",
      "metadata": {
        "id": "sq69nxr7-oW_",
        "colab_type": "text"
      },
      "source": [
        "### 4th Code of Assignment 4\n",
        "\n"
      ]
    },
    {
      "cell_type": "code",
      "metadata": {
        "id": "yGkKicb2VEkf",
        "colab_type": "code",
        "outputId": "f8bb0ff2-bf5b-426b-9a58-1c5d25279fab",
        "colab": {
          "base_uri": "https://localhost:8080/",
          "height": 1000
        }
      },
      "source": [
        "from keras.layers import Activation, BatchNormalization, MaxPooling2D, Dropout\n",
        "model = Sequential()\n",
        " \n",
        "model.add(Convolution2D(10, 3, 3, activation='relu', input_shape=(28,28,1))) #26\n",
        "model.add(BatchNormalization())\n",
        "model.add(Convolution2D(16, 3, 3, activation='relu')) #24\n",
        "model.add(BatchNormalization())\n",
        "\n",
        "model.add(MaxPooling2D(pool_size=(2, 2)))#12\n",
        "model.add(Convolution2D(10, 1, 1, activation='relu')) #12\n",
        "\n",
        "model.add(Convolution2D(8, 3, 3, activation='relu'))#10\n",
        "model.add(BatchNormalization())\n",
        "model.add(Convolution2D(16, 3, 3, activation='relu'))#8\n",
        "model.add(BatchNormalization())\n",
        "model.add(Dropout(0.25))\n",
        "model.add(Convolution2D(16, 3, 3, activation='relu'))#6\n",
        "model.add(BatchNormalization())\n",
        "\n",
        "model.add(Convolution2D(10, 6, 6))\n",
        "#keras.layers.AveragePooling2D(pool_size=(4, 4))\n",
        "#model.add(BatchNormalization())\n",
        "#model.add(Dropout(0.1))\n",
        "\n",
        "\n",
        "model.add(Flatten())\n",
        "model.add(Activation('softmax'))\n",
        "\n",
        "\n",
        "model.summary()"
      ],
      "execution_count": 10,
      "outputs": [
        {
          "output_type": "stream",
          "text": [
            "WARNING: Logging before flag parsing goes to stderr.\n",
            "W0825 14:37:57.423245 140155544749952 deprecation_wrapper.py:119] From /usr/local/lib/python3.6/dist-packages/keras/backend/tensorflow_backend.py:74: The name tf.get_default_graph is deprecated. Please use tf.compat.v1.get_default_graph instead.\n",
            "\n",
            "/usr/local/lib/python3.6/dist-packages/ipykernel_launcher.py:4: UserWarning: Update your `Conv2D` call to the Keras 2 API: `Conv2D(10, (3, 3), activation=\"relu\", input_shape=(28, 28, 1...)`\n",
            "  after removing the cwd from sys.path.\n",
            "W0825 14:37:57.472565 140155544749952 deprecation_wrapper.py:119] From /usr/local/lib/python3.6/dist-packages/keras/backend/tensorflow_backend.py:517: The name tf.placeholder is deprecated. Please use tf.compat.v1.placeholder instead.\n",
            "\n",
            "W0825 14:37:57.480205 140155544749952 deprecation_wrapper.py:119] From /usr/local/lib/python3.6/dist-packages/keras/backend/tensorflow_backend.py:4138: The name tf.random_uniform is deprecated. Please use tf.random.uniform instead.\n",
            "\n",
            "W0825 14:37:57.520790 140155544749952 deprecation_wrapper.py:119] From /usr/local/lib/python3.6/dist-packages/keras/backend/tensorflow_backend.py:174: The name tf.get_default_session is deprecated. Please use tf.compat.v1.get_default_session instead.\n",
            "\n",
            "W0825 14:37:57.521545 140155544749952 deprecation_wrapper.py:119] From /usr/local/lib/python3.6/dist-packages/keras/backend/tensorflow_backend.py:181: The name tf.ConfigProto is deprecated. Please use tf.compat.v1.ConfigProto instead.\n",
            "\n",
            "W0825 14:38:00.912793 140155544749952 deprecation_wrapper.py:119] From /usr/local/lib/python3.6/dist-packages/keras/backend/tensorflow_backend.py:1834: The name tf.nn.fused_batch_norm is deprecated. Please use tf.compat.v1.nn.fused_batch_norm instead.\n",
            "\n",
            "/usr/local/lib/python3.6/dist-packages/ipykernel_launcher.py:6: UserWarning: Update your `Conv2D` call to the Keras 2 API: `Conv2D(16, (3, 3), activation=\"relu\")`\n",
            "  \n",
            "W0825 14:38:01.049290 140155544749952 deprecation_wrapper.py:119] From /usr/local/lib/python3.6/dist-packages/keras/backend/tensorflow_backend.py:3976: The name tf.nn.max_pool is deprecated. Please use tf.nn.max_pool2d instead.\n",
            "\n",
            "/usr/local/lib/python3.6/dist-packages/ipykernel_launcher.py:10: UserWarning: Update your `Conv2D` call to the Keras 2 API: `Conv2D(10, (1, 1), activation=\"relu\")`\n",
            "  # Remove the CWD from sys.path while we load stuff.\n",
            "/usr/local/lib/python3.6/dist-packages/ipykernel_launcher.py:12: UserWarning: Update your `Conv2D` call to the Keras 2 API: `Conv2D(8, (3, 3), activation=\"relu\")`\n",
            "  if sys.path[0] == '':\n",
            "/usr/local/lib/python3.6/dist-packages/ipykernel_launcher.py:14: UserWarning: Update your `Conv2D` call to the Keras 2 API: `Conv2D(16, (3, 3), activation=\"relu\")`\n",
            "  \n",
            "W0825 14:38:01.304807 140155544749952 deprecation.py:506] From /usr/local/lib/python3.6/dist-packages/keras/backend/tensorflow_backend.py:3445: calling dropout (from tensorflow.python.ops.nn_ops) with keep_prob is deprecated and will be removed in a future version.\n",
            "Instructions for updating:\n",
            "Please use `rate` instead of `keep_prob`. Rate should be set to `rate = 1 - keep_prob`.\n",
            "/usr/local/lib/python3.6/dist-packages/ipykernel_launcher.py:17: UserWarning: Update your `Conv2D` call to the Keras 2 API: `Conv2D(16, (3, 3), activation=\"relu\")`\n"
          ],
          "name": "stderr"
        },
        {
          "output_type": "stream",
          "text": [
            "_________________________________________________________________\n",
            "Layer (type)                 Output Shape              Param #   \n",
            "=================================================================\n",
            "conv2d_1 (Conv2D)            (None, 26, 26, 10)        100       \n",
            "_________________________________________________________________\n",
            "batch_normalization_1 (Batch (None, 26, 26, 10)        40        \n",
            "_________________________________________________________________\n",
            "conv2d_2 (Conv2D)            (None, 24, 24, 16)        1456      \n",
            "_________________________________________________________________\n",
            "batch_normalization_2 (Batch (None, 24, 24, 16)        64        \n",
            "_________________________________________________________________\n",
            "max_pooling2d_1 (MaxPooling2 (None, 12, 12, 16)        0         \n",
            "_________________________________________________________________\n",
            "conv2d_3 (Conv2D)            (None, 12, 12, 10)        170       \n",
            "_________________________________________________________________\n",
            "conv2d_4 (Conv2D)            (None, 10, 10, 8)         728       \n",
            "_________________________________________________________________\n",
            "batch_normalization_3 (Batch (None, 10, 10, 8)         32        \n",
            "_________________________________________________________________\n",
            "conv2d_5 (Conv2D)            (None, 8, 8, 16)          1168      \n",
            "_________________________________________________________________\n",
            "batch_normalization_4 (Batch (None, 8, 8, 16)          64        \n",
            "_________________________________________________________________\n",
            "dropout_1 (Dropout)          (None, 8, 8, 16)          0         \n",
            "_________________________________________________________________\n",
            "conv2d_6 (Conv2D)            (None, 6, 6, 16)          2320      \n",
            "_________________________________________________________________\n",
            "batch_normalization_5 (Batch (None, 6, 6, 16)          64        \n",
            "_________________________________________________________________\n",
            "conv2d_7 (Conv2D)            (None, 1, 1, 10)          5770      \n",
            "_________________________________________________________________\n",
            "flatten_1 (Flatten)          (None, 10)                0         \n",
            "_________________________________________________________________\n",
            "activation_1 (Activation)    (None, 10)                0         \n",
            "=================================================================\n",
            "Total params: 11,976\n",
            "Trainable params: 11,844\n",
            "Non-trainable params: 132\n",
            "_________________________________________________________________\n"
          ],
          "name": "stdout"
        },
        {
          "output_type": "stream",
          "text": [
            "/usr/local/lib/python3.6/dist-packages/ipykernel_launcher.py:20: UserWarning: Update your `Conv2D` call to the Keras 2 API: `Conv2D(10, (6, 6))`\n"
          ],
          "name": "stderr"
        }
      ]
    },
    {
      "cell_type": "markdown",
      "metadata": {
        "id": "CPKVhWXS0XDG",
        "colab_type": "text"
      },
      "source": [
        "###Modifications Added to above network\n",
        "*   ReLU(activation) after BN\n",
        "\n"
      ]
    },
    {
      "cell_type": "code",
      "metadata": {
        "id": "5mmp6zcO08xM",
        "colab_type": "code",
        "outputId": "0e941ca1-b8db-407a-b716-6450c332242a",
        "colab": {
          "base_uri": "https://localhost:8080/",
          "height": 1000
        }
      },
      "source": [
        "from keras.layers import Activation, BatchNormalization, MaxPooling2D, Dropout\n",
        "from keras import regularizers\n",
        "model = Sequential()\n",
        " \n",
        "model.add(Convolution2D(10, 3, 3, input_shape=(28,28,1))) #26\n",
        "model.add(BatchNormalization())\n",
        "model.add(Activation('relu'))\n",
        "\n",
        "model.add(Convolution2D(16, 3, 3)) #24\n",
        "model.add(BatchNormalization())\n",
        "model.add(Activation('relu'))\n",
        "\n",
        "model.add(MaxPooling2D(pool_size=(2, 2)))#12\n",
        "model.add(Convolution2D(10, 1, 1, activation='relu')) #12\n",
        "\n",
        "model.add(Convolution2D(8, 3, 3))#10\n",
        "model.add(BatchNormalization())\n",
        "model.add(Activation('relu'))\n",
        "\n",
        "model.add(Convolution2D(16, 3, 3))#8\n",
        "model.add(BatchNormalization())\n",
        "model.add(Activation('relu'))\n",
        "model.add(Dropout(0.25))\n",
        "\n",
        "model.add(Convolution2D(16, 3, 3))#6\n",
        "model.add(BatchNormalization())\n",
        "model.add(Activation('relu'))\n",
        "\n",
        "model.add(Convolution2D(10, 6, 6))\n",
        "#keras.layers.AveragePooling2D(pool_size=(4, 4))\n",
        "#model.add(BatchNormalization())\n",
        "#model.add(Dropout(0.1))\n",
        "\n",
        "\n",
        "model.add(Flatten())\n",
        "model.add(Activation('softmax'))\n",
        "\n",
        "\n",
        "model.summary()"
      ],
      "execution_count": 11,
      "outputs": [
        {
          "output_type": "stream",
          "text": [
            "/usr/local/lib/python3.6/dist-packages/ipykernel_launcher.py:5: UserWarning: Update your `Conv2D` call to the Keras 2 API: `Conv2D(10, (3, 3), input_shape=(28, 28, 1...)`\n",
            "  \"\"\"\n",
            "/usr/local/lib/python3.6/dist-packages/ipykernel_launcher.py:9: UserWarning: Update your `Conv2D` call to the Keras 2 API: `Conv2D(16, (3, 3))`\n",
            "  if __name__ == '__main__':\n",
            "/usr/local/lib/python3.6/dist-packages/ipykernel_launcher.py:14: UserWarning: Update your `Conv2D` call to the Keras 2 API: `Conv2D(10, (1, 1), activation=\"relu\")`\n",
            "  \n",
            "/usr/local/lib/python3.6/dist-packages/ipykernel_launcher.py:16: UserWarning: Update your `Conv2D` call to the Keras 2 API: `Conv2D(8, (3, 3))`\n",
            "  app.launch_new_instance()\n",
            "/usr/local/lib/python3.6/dist-packages/ipykernel_launcher.py:20: UserWarning: Update your `Conv2D` call to the Keras 2 API: `Conv2D(16, (3, 3))`\n",
            "/usr/local/lib/python3.6/dist-packages/ipykernel_launcher.py:25: UserWarning: Update your `Conv2D` call to the Keras 2 API: `Conv2D(16, (3, 3))`\n"
          ],
          "name": "stderr"
        },
        {
          "output_type": "stream",
          "text": [
            "_________________________________________________________________\n",
            "Layer (type)                 Output Shape              Param #   \n",
            "=================================================================\n",
            "conv2d_8 (Conv2D)            (None, 26, 26, 10)        100       \n",
            "_________________________________________________________________\n",
            "batch_normalization_6 (Batch (None, 26, 26, 10)        40        \n",
            "_________________________________________________________________\n",
            "activation_2 (Activation)    (None, 26, 26, 10)        0         \n",
            "_________________________________________________________________\n",
            "conv2d_9 (Conv2D)            (None, 24, 24, 16)        1456      \n",
            "_________________________________________________________________\n",
            "batch_normalization_7 (Batch (None, 24, 24, 16)        64        \n",
            "_________________________________________________________________\n",
            "activation_3 (Activation)    (None, 24, 24, 16)        0         \n",
            "_________________________________________________________________\n",
            "max_pooling2d_2 (MaxPooling2 (None, 12, 12, 16)        0         \n",
            "_________________________________________________________________\n",
            "conv2d_10 (Conv2D)           (None, 12, 12, 10)        170       \n",
            "_________________________________________________________________\n",
            "conv2d_11 (Conv2D)           (None, 10, 10, 8)         728       \n",
            "_________________________________________________________________\n",
            "batch_normalization_8 (Batch (None, 10, 10, 8)         32        \n",
            "_________________________________________________________________\n",
            "activation_4 (Activation)    (None, 10, 10, 8)         0         \n",
            "_________________________________________________________________\n",
            "conv2d_12 (Conv2D)           (None, 8, 8, 16)          1168      \n",
            "_________________________________________________________________\n",
            "batch_normalization_9 (Batch (None, 8, 8, 16)          64        \n",
            "_________________________________________________________________\n",
            "activation_5 (Activation)    (None, 8, 8, 16)          0         \n",
            "_________________________________________________________________\n",
            "dropout_2 (Dropout)          (None, 8, 8, 16)          0         \n",
            "_________________________________________________________________\n",
            "conv2d_13 (Conv2D)           (None, 6, 6, 16)          2320      \n",
            "_________________________________________________________________\n",
            "batch_normalization_10 (Batc (None, 6, 6, 16)          64        \n",
            "_________________________________________________________________\n",
            "activation_6 (Activation)    (None, 6, 6, 16)          0         \n",
            "_________________________________________________________________\n",
            "conv2d_14 (Conv2D)           (None, 1, 1, 10)          5770      \n",
            "_________________________________________________________________\n",
            "flatten_2 (Flatten)          (None, 10)                0         \n",
            "_________________________________________________________________\n",
            "activation_7 (Activation)    (None, 10)                0         \n",
            "=================================================================\n",
            "Total params: 11,976\n",
            "Trainable params: 11,844\n",
            "Non-trainable params: 132\n",
            "_________________________________________________________________\n"
          ],
          "name": "stdout"
        },
        {
          "output_type": "stream",
          "text": [
            "/usr/local/lib/python3.6/dist-packages/ipykernel_launcher.py:29: UserWarning: Update your `Conv2D` call to the Keras 2 API: `Conv2D(10, (6, 6))`\n"
          ],
          "name": "stderr"
        }
      ]
    },
    {
      "cell_type": "markdown",
      "metadata": {
        "id": "I2H70BljLHqj",
        "colab_type": "text"
      },
      "source": [
        "###Custom loss for L2 regularization"
      ]
    },
    {
      "cell_type": "code",
      "metadata": {
        "id": "KNS9ebH3LGwe",
        "colab_type": "code",
        "colab": {}
      },
      "source": [
        "import keras.backend as K\n",
        "def reg_term(val):\n",
        "  w2 = 0\n",
        "  for i in range(len(model.layers)):\n",
        "    if len(model.layers[i].get_weights()) > 0:\n",
        "      t = np.sum(model.layers[i].get_weights()[0]*model.layers[i].get_weights()[0])\n",
        "      w2 += t\n",
        "  w2 *= val/(2*X_train.shape[0])\n",
        "  return w2\n",
        "\n",
        "def l2_loss(y_true, y_pred):\n",
        "  return K.categorical_crossentropy(y_true, y_pred) + reg_term(val)"
      ],
      "execution_count": 0,
      "outputs": []
    },
    {
      "cell_type": "markdown",
      "metadata": {
        "id": "xNaYSByjWTaw",
        "colab_type": "text"
      },
      "source": [
        "#### Modifications to model hyperparameters\n",
        "\n",
        "*  Addition of ImageDataGenerator to perform Image Normalization\n",
        "*  Addition of logic to save best model based on max val. accuracy\n",
        "*  Addition of L2 regularization of loss\n",
        "\n",
        "\n",
        "\n"
      ]
    },
    {
      "cell_type": "code",
      "metadata": {
        "id": "UmIcc9JMWWKm",
        "colab_type": "code",
        "outputId": "f62e787a-b301-4960-9242-1cc5fcce0e95",
        "colab": {
          "base_uri": "https://localhost:8080/",
          "height": 1000
        }
      },
      "source": [
        "from keras.optimizers import Adam\n",
        "from keras.callbacks import LearningRateScheduler\n",
        "from keras.preprocessing.image import ImageDataGenerator\n",
        "from keras.callbacks import ModelCheckpoint\n",
        "\n",
        "def scheduler(epoch, lr):\n",
        "  return round(0.003 * 1/(1 + 0.319 * epoch), 10)\n",
        "\n",
        "val = 0.01\n",
        "\n",
        "model.compile(loss=l2_loss, optimizer=Adam(lr=0.003), metrics=['accuracy'])\n",
        "\n",
        "datagen = ImageDataGenerator(featurewise_center=True, featurewise_std_normalization=True)\n",
        "train_iterator = datagen.flow(X_train, Y_train, batch_size=128)\n",
        "\n",
        "model_saved = ModelCheckpoint('best_model.h5', save_best_only=True, monitor='val_acc', mode='max')\n",
        "\n",
        "model_info = model.fit_generator(train_iterator, samples_per_epoch = 60000, nb_epoch = 40, \n",
        "                                 validation_data = (X_test, Y_test), \n",
        "                                 callbacks=[model_saved, LearningRateScheduler(scheduler, verbose=1)])"
      ],
      "execution_count": 13,
      "outputs": [
        {
          "output_type": "stream",
          "text": [
            "W0825 14:38:01.933352 140155544749952 deprecation_wrapper.py:119] From /usr/local/lib/python3.6/dist-packages/keras/optimizers.py:790: The name tf.train.Optimizer is deprecated. Please use tf.compat.v1.train.Optimizer instead.\n",
            "\n",
            "/usr/local/lib/python3.6/dist-packages/ipykernel_launcher.py:20: UserWarning: The semantics of the Keras 2 argument `steps_per_epoch` is not the same as the Keras 1 argument `samples_per_epoch`. `steps_per_epoch` is the number of batches to draw from the generator at each epoch. Basically steps_per_epoch = samples_per_epoch/batch_size. Similarly `nb_val_samples`->`validation_steps` and `val_samples`->`steps` arguments have changed. Update your method calls accordingly.\n",
            "/usr/local/lib/python3.6/dist-packages/ipykernel_launcher.py:20: UserWarning: Update your `fit_generator` call to the Keras 2 API: `fit_generator(<keras_pre..., validation_data=(array([[[..., callbacks=[<keras.ca..., steps_per_epoch=468, epochs=40)`\n",
            "W0825 14:38:02.477145 140155544749952 deprecation.py:323] From /usr/local/lib/python3.6/dist-packages/tensorflow/python/ops/math_grad.py:1250: add_dispatch_support.<locals>.wrapper (from tensorflow.python.ops.array_ops) is deprecated and will be removed in a future version.\n",
            "Instructions for updating:\n",
            "Use tf.where in 2.0, which has the same broadcast rule as np.where\n"
          ],
          "name": "stderr"
        },
        {
          "output_type": "stream",
          "text": [
            "Epoch 1/40\n"
          ],
          "name": "stdout"
        },
        {
          "output_type": "stream",
          "text": [
            "/usr/local/lib/python3.6/dist-packages/keras_preprocessing/image/image_data_generator.py:716: UserWarning: This ImageDataGenerator specifies `featurewise_center`, but it hasn't been fit on any training data. Fit it first by calling `.fit(numpy_data)`.\n",
            "  warnings.warn('This ImageDataGenerator specifies '\n",
            "/usr/local/lib/python3.6/dist-packages/keras_preprocessing/image/image_data_generator.py:724: UserWarning: This ImageDataGenerator specifies `featurewise_std_normalization`, but it hasn't been fit on any training data. Fit it first by calling `.fit(numpy_data)`.\n",
            "  warnings.warn('This ImageDataGenerator specifies '\n"
          ],
          "name": "stderr"
        },
        {
          "output_type": "stream",
          "text": [
            "\n",
            "Epoch 00001: LearningRateScheduler setting learning rate to 0.003.\n",
            "468/468 [==============================] - 9s 20ms/step - loss: 0.1706 - acc: 0.9474 - val_loss: 0.1122 - val_acc: 0.9639\n",
            "Epoch 2/40\n",
            "\n",
            "Epoch 00002: LearningRateScheduler setting learning rate to 0.0022744503.\n",
            "468/468 [==============================] - 5s 11ms/step - loss: 0.0553 - acc: 0.9825 - val_loss: 0.0370 - val_acc: 0.9878\n",
            "Epoch 3/40\n",
            "\n",
            "Epoch 00003: LearningRateScheduler setting learning rate to 0.0018315018.\n",
            "468/468 [==============================] - 5s 11ms/step - loss: 0.0406 - acc: 0.9871 - val_loss: 0.0312 - val_acc: 0.9893\n",
            "Epoch 4/40\n",
            "\n",
            "Epoch 00004: LearningRateScheduler setting learning rate to 0.0015329586.\n",
            "468/468 [==============================] - 5s 11ms/step - loss: 0.0353 - acc: 0.9890 - val_loss: 0.0358 - val_acc: 0.9893\n",
            "Epoch 5/40\n",
            "\n",
            "Epoch 00005: LearningRateScheduler setting learning rate to 0.0013181019.\n",
            "468/468 [==============================] - 5s 11ms/step - loss: 0.0298 - acc: 0.9901 - val_loss: 0.0275 - val_acc: 0.9902\n",
            "Epoch 6/40\n",
            "\n",
            "Epoch 00006: LearningRateScheduler setting learning rate to 0.0011560694.\n",
            "468/468 [==============================] - 5s 11ms/step - loss: 0.0262 - acc: 0.9917 - val_loss: 0.0274 - val_acc: 0.9920\n",
            "Epoch 7/40\n",
            "\n",
            "Epoch 00007: LearningRateScheduler setting learning rate to 0.0010295127.\n",
            "468/468 [==============================] - 5s 11ms/step - loss: 0.0240 - acc: 0.9925 - val_loss: 0.0285 - val_acc: 0.9915\n",
            "Epoch 8/40\n",
            "\n",
            "Epoch 00008: LearningRateScheduler setting learning rate to 0.0009279307.\n",
            "468/468 [==============================] - 5s 11ms/step - loss: 0.0222 - acc: 0.9929 - val_loss: 0.0259 - val_acc: 0.9926\n",
            "Epoch 9/40\n",
            "\n",
            "Epoch 00009: LearningRateScheduler setting learning rate to 0.0008445946.\n",
            "468/468 [==============================] - 5s 11ms/step - loss: 0.0210 - acc: 0.9932 - val_loss: 0.0378 - val_acc: 0.9872\n",
            "Epoch 10/40\n",
            "\n",
            "Epoch 00010: LearningRateScheduler setting learning rate to 0.0007749935.\n",
            "468/468 [==============================] - 5s 11ms/step - loss: 0.0193 - acc: 0.9938 - val_loss: 0.0283 - val_acc: 0.9911\n",
            "Epoch 11/40\n",
            "\n",
            "Epoch 00011: LearningRateScheduler setting learning rate to 0.0007159905.\n",
            "468/468 [==============================] - 5s 11ms/step - loss: 0.0174 - acc: 0.9945 - val_loss: 0.0250 - val_acc: 0.9924\n",
            "Epoch 12/40\n",
            "\n",
            "Epoch 00012: LearningRateScheduler setting learning rate to 0.000665336.\n",
            "468/468 [==============================] - 5s 11ms/step - loss: 0.0160 - acc: 0.9950 - val_loss: 0.0263 - val_acc: 0.9922\n",
            "Epoch 13/40\n",
            "\n",
            "Epoch 00013: LearningRateScheduler setting learning rate to 0.0006213753.\n",
            "468/468 [==============================] - 5s 11ms/step - loss: 0.0148 - acc: 0.9951 - val_loss: 0.0275 - val_acc: 0.9921\n",
            "Epoch 14/40\n",
            "\n",
            "Epoch 00014: LearningRateScheduler setting learning rate to 0.0005828638.\n",
            "468/468 [==============================] - 5s 11ms/step - loss: 0.0136 - acc: 0.9953 - val_loss: 0.0268 - val_acc: 0.9918\n",
            "Epoch 15/40\n",
            "\n",
            "Epoch 00015: LearningRateScheduler setting learning rate to 0.0005488474.\n",
            "468/468 [==============================] - 5s 11ms/step - loss: 0.0132 - acc: 0.9958 - val_loss: 0.0254 - val_acc: 0.9921\n",
            "Epoch 16/40\n",
            "\n",
            "Epoch 00016: LearningRateScheduler setting learning rate to 0.0005185825.\n",
            "468/468 [==============================] - 5s 11ms/step - loss: 0.0132 - acc: 0.9953 - val_loss: 0.0272 - val_acc: 0.9917\n",
            "Epoch 17/40\n",
            "\n",
            "Epoch 00017: LearningRateScheduler setting learning rate to 0.000491481.\n",
            "468/468 [==============================] - 5s 11ms/step - loss: 0.0123 - acc: 0.9959 - val_loss: 0.0312 - val_acc: 0.9915\n",
            "Epoch 18/40\n",
            "\n",
            "Epoch 00018: LearningRateScheduler setting learning rate to 0.0004670715.\n",
            "468/468 [==============================] - 5s 11ms/step - loss: 0.0120 - acc: 0.9961 - val_loss: 0.0252 - val_acc: 0.9930\n",
            "Epoch 19/40\n",
            "\n",
            "Epoch 00019: LearningRateScheduler setting learning rate to 0.0004449718.\n",
            "468/468 [==============================] - 5s 11ms/step - loss: 0.0114 - acc: 0.9963 - val_loss: 0.0234 - val_acc: 0.9932\n",
            "Epoch 20/40\n",
            "\n",
            "Epoch 00020: LearningRateScheduler setting learning rate to 0.000424869.\n",
            "468/468 [==============================] - 5s 11ms/step - loss: 0.0107 - acc: 0.9964 - val_loss: 0.0222 - val_acc: 0.9925\n",
            "Epoch 21/40\n",
            "\n",
            "Epoch 00021: LearningRateScheduler setting learning rate to 0.0004065041.\n",
            "468/468 [==============================] - 5s 11ms/step - loss: 0.0107 - acc: 0.9965 - val_loss: 0.0244 - val_acc: 0.9931\n",
            "Epoch 22/40\n",
            "\n",
            "Epoch 00022: LearningRateScheduler setting learning rate to 0.000389661.\n",
            "468/468 [==============================] - 5s 11ms/step - loss: 0.0094 - acc: 0.9975 - val_loss: 0.0248 - val_acc: 0.9924\n",
            "Epoch 23/40\n",
            "\n",
            "Epoch 00023: LearningRateScheduler setting learning rate to 0.0003741581.\n",
            "468/468 [==============================] - 5s 11ms/step - loss: 0.0089 - acc: 0.9972 - val_loss: 0.0247 - val_acc: 0.9930\n",
            "Epoch 24/40\n",
            "\n",
            "Epoch 00024: LearningRateScheduler setting learning rate to 0.0003598417.\n",
            "468/468 [==============================] - 5s 11ms/step - loss: 0.0090 - acc: 0.9971 - val_loss: 0.0249 - val_acc: 0.9930\n",
            "Epoch 25/40\n",
            "\n",
            "Epoch 00025: LearningRateScheduler setting learning rate to 0.0003465804.\n",
            "468/468 [==============================] - 5s 11ms/step - loss: 0.0083 - acc: 0.9973 - val_loss: 0.0275 - val_acc: 0.9927\n",
            "Epoch 26/40\n",
            "\n",
            "Epoch 00026: LearningRateScheduler setting learning rate to 0.0003342618.\n",
            "468/468 [==============================] - 5s 11ms/step - loss: 0.0082 - acc: 0.9974 - val_loss: 0.0232 - val_acc: 0.9929\n",
            "Epoch 27/40\n",
            "\n",
            "Epoch 00027: LearningRateScheduler setting learning rate to 0.0003227889.\n",
            "468/468 [==============================] - 5s 11ms/step - loss: 0.0089 - acc: 0.9973 - val_loss: 0.0222 - val_acc: 0.9933\n",
            "Epoch 28/40\n",
            "\n",
            "Epoch 00028: LearningRateScheduler setting learning rate to 0.0003120774.\n",
            "468/468 [==============================] - 5s 11ms/step - loss: 0.0074 - acc: 0.9978 - val_loss: 0.0262 - val_acc: 0.9927\n",
            "Epoch 29/40\n",
            "\n",
            "Epoch 00029: LearningRateScheduler setting learning rate to 0.000302054.\n",
            "468/468 [==============================] - 5s 11ms/step - loss: 0.0077 - acc: 0.9977 - val_loss: 0.0257 - val_acc: 0.9924\n",
            "Epoch 30/40\n",
            "\n",
            "Epoch 00030: LearningRateScheduler setting learning rate to 0.0002926544.\n",
            "468/468 [==============================] - 5s 11ms/step - loss: 0.0075 - acc: 0.9975 - val_loss: 0.0254 - val_acc: 0.9927\n",
            "Epoch 31/40\n",
            "\n",
            "Epoch 00031: LearningRateScheduler setting learning rate to 0.0002838221.\n",
            "468/468 [==============================] - 5s 11ms/step - loss: 0.0074 - acc: 0.9976 - val_loss: 0.0246 - val_acc: 0.9931\n",
            "Epoch 32/40\n",
            "\n",
            "Epoch 00032: LearningRateScheduler setting learning rate to 0.0002755074.\n",
            "468/468 [==============================] - 5s 11ms/step - loss: 0.0071 - acc: 0.9976 - val_loss: 0.0231 - val_acc: 0.9927\n",
            "Epoch 33/40\n",
            "\n",
            "Epoch 00033: LearningRateScheduler setting learning rate to 0.000267666.\n",
            "468/468 [==============================] - 5s 11ms/step - loss: 0.0070 - acc: 0.9978 - val_loss: 0.0239 - val_acc: 0.9931\n",
            "Epoch 34/40\n",
            "\n",
            "Epoch 00034: LearningRateScheduler setting learning rate to 0.0002602585.\n",
            "468/468 [==============================] - 5s 11ms/step - loss: 0.0062 - acc: 0.9984 - val_loss: 0.0234 - val_acc: 0.9930\n",
            "Epoch 35/40\n",
            "\n",
            "Epoch 00035: LearningRateScheduler setting learning rate to 0.00025325.\n",
            "468/468 [==============================] - 5s 11ms/step - loss: 0.0065 - acc: 0.9979 - val_loss: 0.0237 - val_acc: 0.9931\n",
            "Epoch 36/40\n",
            "\n",
            "Epoch 00036: LearningRateScheduler setting learning rate to 0.0002466091.\n",
            "468/468 [==============================] - 5s 11ms/step - loss: 0.0063 - acc: 0.9980 - val_loss: 0.0232 - val_acc: 0.9934\n",
            "Epoch 37/40\n",
            "\n",
            "Epoch 00037: LearningRateScheduler setting learning rate to 0.0002403076.\n",
            "468/468 [==============================] - 5s 11ms/step - loss: 0.0064 - acc: 0.9981 - val_loss: 0.0248 - val_acc: 0.9925\n",
            "Epoch 38/40\n",
            "\n",
            "Epoch 00038: LearningRateScheduler setting learning rate to 0.0002343201.\n",
            "468/468 [==============================] - 5s 11ms/step - loss: 0.0060 - acc: 0.9980 - val_loss: 0.0239 - val_acc: 0.9931\n",
            "Epoch 39/40\n",
            "\n",
            "Epoch 00039: LearningRateScheduler setting learning rate to 0.0002286237.\n",
            "468/468 [==============================] - 5s 11ms/step - loss: 0.0058 - acc: 0.9982 - val_loss: 0.0239 - val_acc: 0.9928\n",
            "Epoch 40/40\n",
            "\n",
            "Epoch 00040: LearningRateScheduler setting learning rate to 0.0002231977.\n",
            "468/468 [==============================] - 5s 11ms/step - loss: 0.0062 - acc: 0.9981 - val_loss: 0.0244 - val_acc: 0.9929\n"
          ],
          "name": "stdout"
        }
      ]
    },
    {
      "cell_type": "markdown",
      "metadata": {
        "id": "axaV8UUJ-sFD",
        "colab_type": "text"
      },
      "source": [
        "### Calculate the validation score"
      ]
    },
    {
      "cell_type": "code",
      "metadata": {
        "id": "AtsH-lLk-eLb",
        "colab_type": "code",
        "outputId": "a5ddf026-f226-4267-f05f-936169f4dca3",
        "colab": {
          "base_uri": "https://localhost:8080/",
          "height": 34
        }
      },
      "source": [
        "model.load_weights(filepath = 'best_model.h5')\n",
        "score = model.evaluate(X_test, Y_test, verbose=0)\n",
        "print(score)"
      ],
      "execution_count": 14,
      "outputs": [
        {
          "output_type": "stream",
          "text": [
            "[0.023235189401684328, 0.9934]\n"
          ],
          "name": "stdout"
        }
      ]
    },
    {
      "cell_type": "markdown",
      "metadata": {
        "id": "kDydXL1h-t4K",
        "colab_type": "text"
      },
      "source": [
        "### Predict the label for the test images"
      ]
    },
    {
      "cell_type": "code",
      "metadata": {
        "id": "OCWoJkwE9suh",
        "colab_type": "code",
        "outputId": "ecc1379a-0b52-403f-d212-a4746cd7c018",
        "colab": {
          "base_uri": "https://localhost:8080/",
          "height": 503
        }
      },
      "source": [
        "y_pred = model.predict(X_test)\n",
        "print(y_pred[:9])\n",
        "print(y_test[:9])"
      ],
      "execution_count": 15,
      "outputs": [
        {
          "output_type": "stream",
          "text": [
            "[[1.51594571e-13 1.90800587e-12 8.51555104e-10 6.18100549e-09\n",
            "  2.66180210e-16 6.17723320e-13 4.79906979e-19 1.00000000e+00\n",
            "  2.95975470e-14 1.03783586e-08]\n",
            " [1.15599075e-09 2.61954319e-10 1.00000000e+00 6.32299524e-14\n",
            "  1.49885611e-13 8.44329192e-17 1.12160212e-10 3.87346473e-14\n",
            "  8.36184149e-14 1.16104866e-13]\n",
            " [4.37347381e-10 9.99997735e-01 4.03747391e-09 9.07393397e-11\n",
            "  7.59818661e-08 5.21489625e-08 1.40990900e-10 2.19478397e-06\n",
            "  2.27349961e-09 3.24286348e-10]\n",
            " [9.99991536e-01 2.63935466e-15 3.33460620e-11 5.73939203e-12\n",
            "  4.35982708e-11 6.89815360e-09 8.40037046e-06 1.13594233e-13\n",
            "  3.10191817e-10 7.93126453e-09]\n",
            " [9.14049218e-13 6.56251149e-13 4.89925754e-13 4.96272186e-13\n",
            "  9.99902606e-01 3.87079518e-12 1.87146743e-10 8.93151113e-13\n",
            "  2.02810018e-08 9.73605711e-05]\n",
            " [3.43378237e-09 9.99993920e-01 8.77479511e-09 2.27477152e-12\n",
            "  6.72517686e-08 4.24808055e-09 1.40241291e-10 5.99607847e-06\n",
            "  2.99742697e-09 4.90740948e-10]\n",
            " [2.41627070e-21 2.27208703e-12 7.69725776e-12 9.08493658e-17\n",
            "  9.99999523e-01 5.80057226e-12 6.48306259e-16 6.06194783e-09\n",
            "  5.70281706e-08 3.89547381e-07]\n",
            " [2.05620032e-09 2.90488689e-10 1.75332701e-07 5.32749347e-08\n",
            "  3.29524773e-05 5.60356384e-08 1.10423115e-10 7.73644950e-12\n",
            "  8.73052102e-08 9.99966621e-01]\n",
            " [2.37290487e-06 2.26769572e-13 1.16580186e-08 5.33747768e-10\n",
            "  5.44085818e-11 8.36781144e-01 1.62308723e-01 2.16067466e-13\n",
            "  9.06114525e-04 1.66071482e-06]]\n",
            "[7 2 1 0 4 1 4 9 5]\n"
          ],
          "name": "stdout"
        }
      ]
    },
    {
      "cell_type": "markdown",
      "metadata": {
        "id": "Jq1FeWTz-vjW",
        "colab_type": "text"
      },
      "source": [
        "### Saving layer names in a dict datatype so that we can later use it for visualization."
      ]
    },
    {
      "cell_type": "code",
      "metadata": {
        "id": "CT--y98_dr2T",
        "colab_type": "code",
        "colab": {}
      },
      "source": [
        "layer_dict = dict([(layer.name, layer) for layer in model.layers])"
      ],
      "execution_count": 0,
      "outputs": []
    },
    {
      "cell_type": "markdown",
      "metadata": {
        "id": "If8RXC_e9AAN",
        "colab_type": "text"
      },
      "source": [
        "###Visualize 25 of the wrong detections"
      ]
    },
    {
      "cell_type": "code",
      "metadata": {
        "id": "6UtvGvDx8-Ow",
        "colab_type": "code",
        "outputId": "e627808c-e442-4ff3-aa49-26aa3ed84d7a",
        "colab": {
          "base_uri": "https://localhost:8080/",
          "height": 1000
        }
      },
      "source": [
        "y_pred = model.predict(X_test)\n",
        "result=[0]*10000\n",
        "#from a subplot of 5X5 images with each figure of 20X20\n",
        "fig, ax = plt.subplots(5, 5, figsize = (20, 20))\n",
        "fig.tight_layout()\n",
        "#give title to sub plot\n",
        "fig.suptitle('25 misclassified images')\n",
        "#find the predicted value and store it in a list\n",
        "for i in range(10000):\n",
        "  for j in range(10):\n",
        "    if(np.round_(y_pred[i][j])-1 == 0):\n",
        "      result[i]=j\n",
        "      \n",
        "print (test_features.shape)     \n",
        "layer_output= []\n",
        "count,i = 0,0\n",
        "x,y=0,0\n",
        "#iterate over all 10000 images until 25 images are printed\n",
        "while (i < 10000 and count<25):\n",
        "  #if the prediction is not equal to actual\n",
        "  if(y_test[i]-result[i] !=0):\n",
        "    #show the image\n",
        "    ax[x,y].imshow(test_features[i])\n",
        "    ax[x,y].set_title('Predicted value is: %d but actual value is : %d' %(result[i],y_test[i]))\n",
        "    if(y >= 4):\n",
        "      y=0\n",
        "      x+=1\n",
        "    else:\n",
        "      y+=1      \n",
        "    count=count+1\n",
        "  i+=1"
      ],
      "execution_count": 18,
      "outputs": [
        {
          "output_type": "stream",
          "text": [
            "(10000, 28, 28)\n"
          ],
          "name": "stdout"
        },
        {
          "output_type": "display_data",
          "data": {
            "image/png": "[encoded data removed]",
            "text/plain": [
              "<Figure size 1440x1440 with 25 Axes>"
            ]
          },
          "metadata": {
            "tags": []
          }
        }
      ]
    }
  ]
}