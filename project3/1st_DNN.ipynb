{
  "nbformat": 4,
  "nbformat_minor": 0,
  "metadata": {
    "colab": {
      "name": "1st_DNN.ipynb",
      "version": "0.3.2",
      "provenance": [],
      "collapsed_sections": []
    },
    "kernelspec": {
      "name": "python3",
      "display_name": "Python 3"
    },
    "accelerator": "GPU"
  },
  "cells": [
    {
      "cell_type": "markdown",
      "metadata": {
        "id": "aNyZv-Ec52ot",
        "colab_type": "text"
      },
      "source": [
        "# **Import Libraries and modules**"
      ]
    },
    {
      "cell_type": "markdown",
      "metadata": {
        "id": "VuGWcUSJ-efk",
        "colab_type": "text"
      },
      "source": [
        "### Install Keras module for python and import it to run basic keras functions for model building."
      ]
    },
    {
      "cell_type": "code",
      "metadata": {
        "id": "3m3w1Cw49Zkt",
        "colab_type": "code",
        "colab": {
          "base_uri": "https://localhost:8080/",
          "height": 34
        },
        "outputId": "992ddbdf-1599-4d87-cc4a-dade710366be"
      },
      "source": [
        "# https://keras.io/\n",
        "!pip install -q keras\n",
        "import keras"
      ],
      "execution_count": 1,
      "outputs": [
        {
          "output_type": "stream",
          "text": [
            "Using TensorFlow backend.\n"
          ],
          "name": "stderr"
        }
      ]
    },
    {
      "cell_type": "markdown",
      "metadata": {
        "id": "i-wujMov-fPZ",
        "colab_type": "text"
      },
      "source": [
        "### Import Numpy library which is usually used to store data. Also import other support libraries in keras for model building and predefined dataset loading."
      ]
    },
    {
      "cell_type": "code",
      "metadata": {
        "id": "Eso6UHE080D4",
        "colab_type": "code",
        "colab": {}
      },
      "source": [
        "import numpy as np\n",
        "\n",
        "from keras.models import Sequential\n",
        "from keras.layers import Dense, Dropout, Activation, Flatten, Add\n",
        "from keras.layers import Convolution2D, MaxPooling2D\n",
        "from keras.utils import np_utils\n",
        "\n",
        "from keras.datasets import mnist"
      ],
      "execution_count": 0,
      "outputs": []
    },
    {
      "cell_type": "markdown",
      "metadata": {
        "id": "zByEi95J86RD",
        "colab_type": "text"
      },
      "source": [
        "### Load pre-shuffled MNIST data into train and test sets"
      ]
    },
    {
      "cell_type": "code",
      "metadata": {
        "id": "7eRM0QWN83PV",
        "colab_type": "code",
        "outputId": "4232df1c-010a-4097-95f1-8b07773d3d41",
        "colab": {
          "base_uri": "https://localhost:8080/",
          "height": 52
        }
      },
      "source": [
        "(X_train, y_train), (X_test, y_test) = mnist.load_data()"
      ],
      "execution_count": 3,
      "outputs": [
        {
          "output_type": "stream",
          "text": [
            "Downloading data from https://s3.amazonaws.com/img-datasets/mnist.npz\n",
            "11493376/11490434 [==============================] - 1s 0us/step\n"
          ],
          "name": "stdout"
        }
      ]
    },
    {
      "cell_type": "markdown",
      "metadata": {
        "id": "Zz4pK7Cf-i21",
        "colab_type": "text"
      },
      "source": [
        "### Matplotlib is a visualization tool of python which can be used to plot graphs and display images. Here we first print the total number of images used for training. Then import matplotlib library and show the first training image."
      ]
    },
    {
      "cell_type": "code",
      "metadata": {
        "id": "4a4Be72j8-ZC",
        "colab_type": "code",
        "outputId": "fc32b5c5-486a-436e-f7b3-2737d19ad91d",
        "colab": {
          "base_uri": "https://localhost:8080/",
          "height": 304
        }
      },
      "source": [
        "print (X_train.shape)\n",
        "from matplotlib import pyplot as plt\n",
        "%matplotlib inline\n",
        "plt.imshow(X_train[0])"
      ],
      "execution_count": 4,
      "outputs": [
        {
          "output_type": "stream",
          "text": [
            "(60000, 28, 28)\n"
          ],
          "name": "stdout"
        },
        {
          "output_type": "execute_result",
          "data": {
            "text/plain": [
              "<matplotlib.image.AxesImage at 0x7f9a86b5b390>"
            ]
          },
          "metadata": {
            "tags": []
          },
          "execution_count": 4
        },
        {
          "output_type": "display_data",
          "data": {
            "image/png": "[encoded data removed]",
            "text/plain": [
              "<Figure size 432x288 with 1 Axes>"
            ]
          },
          "metadata": {
            "tags": []
          }
        }
      ]
    },
    {
      "cell_type": "markdown",
      "metadata": {
        "id": "I4F7Bxaa-jsy",
        "colab_type": "text"
      },
      "source": [
        "### As the dataset contains single channel images, we reshape array to correct the input channel dimension."
      ]
    },
    {
      "cell_type": "code",
      "metadata": {
        "id": "dkmprriw9AnZ",
        "colab_type": "code",
        "colab": {}
      },
      "source": [
        "X_train = X_train.reshape(X_train.shape[0], 28, 28,1)\n",
        "X_test = X_test.reshape(X_test.shape[0], 28, 28,1)"
      ],
      "execution_count": 0,
      "outputs": []
    },
    {
      "cell_type": "markdown",
      "metadata": {
        "id": "Yw4zfyXA-lMg",
        "colab_type": "text"
      },
      "source": [
        "### Normalize values between 0 to 1"
      ]
    },
    {
      "cell_type": "code",
      "metadata": {
        "id": "X2m4YS4E9CRh",
        "colab_type": "code",
        "colab": {}
      },
      "source": [
        "X_train = X_train.astype('float32')\n",
        "X_test = X_test.astype('float32')\n",
        "X_train /= 255\n",
        "X_test /= 255"
      ],
      "execution_count": 0,
      "outputs": []
    },
    {
      "cell_type": "markdown",
      "metadata": {
        "id": "rH6kaAt2-mH1",
        "colab_type": "text"
      },
      "source": [
        "### Show labels of last 10 train data"
      ]
    },
    {
      "cell_type": "code",
      "metadata": {
        "id": "0Mn0vAYD9DvB",
        "colab_type": "code",
        "outputId": "7c7a0325-9c1f-4f55-b8ba-3296fdb5a26e",
        "colab": {
          "base_uri": "https://localhost:8080/",
          "height": 34
        }
      },
      "source": [
        "y_train[:10]"
      ],
      "execution_count": 7,
      "outputs": [
        {
          "output_type": "execute_result",
          "data": {
            "text/plain": [
              "array([5, 0, 4, 1, 9, 2, 1, 3, 1, 4], dtype=uint8)"
            ]
          },
          "metadata": {
            "tags": []
          },
          "execution_count": 7
        }
      ]
    },
    {
      "cell_type": "markdown",
      "metadata": {
        "id": "CR-bHYIT-m3E",
        "colab_type": "text"
      },
      "source": [
        "### Convert 1-dimensional class arrays to 10-dimensional class matrices"
      ]
    },
    {
      "cell_type": "code",
      "metadata": {
        "id": "ZG8JiXR39FHC",
        "colab_type": "code",
        "colab": {}
      },
      "source": [
        "# Convert 1-dimensional class arrays to 10-dimensional class matrices\n",
        "Y_train = np_utils.to_categorical(y_train, 10)\n",
        "Y_test = np_utils.to_categorical(y_test, 10)"
      ],
      "execution_count": 0,
      "outputs": []
    },
    {
      "cell_type": "markdown",
      "metadata": {
        "id": "M2HoAuIP-nfv",
        "colab_type": "text"
      },
      "source": [
        "### Show the matrix converted labels of last 10 images"
      ]
    },
    {
      "cell_type": "code",
      "metadata": {
        "id": "fYlFRvKS9HMB",
        "colab_type": "code",
        "outputId": "9b8cd048-29ed-47a8-fe33-c9fbee3c4b9c",
        "colab": {
          "base_uri": "https://localhost:8080/",
          "height": 191
        }
      },
      "source": [
        "Y_train[:10]\n"
      ],
      "execution_count": 9,
      "outputs": [
        {
          "output_type": "execute_result",
          "data": {
            "text/plain": [
              "array([[0., 0., 0., 0., 0., 1., 0., 0., 0., 0.],\n",
              "       [1., 0., 0., 0., 0., 0., 0., 0., 0., 0.],\n",
              "       [0., 0., 0., 0., 1., 0., 0., 0., 0., 0.],\n",
              "       [0., 1., 0., 0., 0., 0., 0., 0., 0., 0.],\n",
              "       [0., 0., 0., 0., 0., 0., 0., 0., 0., 1.],\n",
              "       [0., 0., 1., 0., 0., 0., 0., 0., 0., 0.],\n",
              "       [0., 1., 0., 0., 0., 0., 0., 0., 0., 0.],\n",
              "       [0., 0., 0., 1., 0., 0., 0., 0., 0., 0.],\n",
              "       [0., 1., 0., 0., 0., 0., 0., 0., 0., 0.],\n",
              "       [0., 0., 0., 0., 1., 0., 0., 0., 0., 0.]], dtype=float32)"
            ]
          },
          "metadata": {
            "tags": []
          },
          "execution_count": 9
        }
      ]
    },
    {
      "cell_type": "markdown",
      "metadata": {
        "id": "sq69nxr7-oW_",
        "colab_type": "text"
      },
      "source": [
        "### Model Building Code"
      ]
    },
    {
      "cell_type": "code",
      "metadata": {
        "id": "osKqT73Q9JJB",
        "colab_type": "code",
        "outputId": "58497e81-fcff-4e31-d137-50848ab3c64f",
        "colab": {
          "base_uri": "https://localhost:8080/",
          "height": 295
        }
      },
      "source": [
        "from keras.layers import Activation\n",
        "model = Sequential()\n",
        "model.add(Convolution2D(16, 3, 3, activation='relu', input_shape=(28,28,1)))#26x26\n",
        "\n",
        "model.add(Convolution2D(16, 3, 3, activation='relu'))#24x24\n",
        "model.add(Convolution2D(16, 3, 3, activation='relu'))#22x22\n",
        "\n",
        "model.add(MaxPooling2D(pool_size=(2,2)))#11x11\n",
        "model.add(Convolution2D(8, 1))#11x11\n",
        "\n",
        "model.add(Convolution2D(8, 3, 3, activation='relu'))#9x9\n",
        "model.add(Convolution2D(16, 3, 3, activation='relu'))#7x7\n",
        "model.add(Convolution2D(16, 3, 3, activation='relu'))#5x5\n",
        "model.add(Convolution2D(16, 3, 3, activation='relu'))#3x3\n",
        "model.add(Convolution2D(32, 3, 3, activation='relu'))#1x1\n",
        "\n",
        "model.add(Convolution2D(10, 1))\n",
        "model.add(Flatten())\n",
        "\n",
        "model.add(Activation('softmax'))"
      ],
      "execution_count": 770,
      "outputs": [
        {
          "output_type": "stream",
          "text": [
            "/usr/local/lib/python3.6/dist-packages/ipykernel_launcher.py:5: UserWarning: Update your `Conv2D` call to the Keras 2 API: `Conv2D(16, (3, 3), activation=\"relu\", input_shape=(28, 28, 1...)`\n",
            "  \"\"\"\n",
            "/usr/local/lib/python3.6/dist-packages/ipykernel_launcher.py:6: UserWarning: Update your `Conv2D` call to the Keras 2 API: `Conv2D(16, (3, 3), activation=\"relu\")`\n",
            "  \n",
            "/usr/local/lib/python3.6/dist-packages/ipykernel_launcher.py:7: UserWarning: Update your `Conv2D` call to the Keras 2 API: `Conv2D(16, (3, 3), activation=\"relu\")`\n",
            "  import sys\n",
            "/usr/local/lib/python3.6/dist-packages/ipykernel_launcher.py:12: UserWarning: Update your `Conv2D` call to the Keras 2 API: `Conv2D(8, (3, 3), activation=\"relu\")`\n",
            "  if sys.path[0] == '':\n",
            "/usr/local/lib/python3.6/dist-packages/ipykernel_launcher.py:13: UserWarning: Update your `Conv2D` call to the Keras 2 API: `Conv2D(16, (3, 3), activation=\"relu\")`\n",
            "  del sys.path[0]\n",
            "/usr/local/lib/python3.6/dist-packages/ipykernel_launcher.py:14: UserWarning: Update your `Conv2D` call to the Keras 2 API: `Conv2D(16, (3, 3), activation=\"relu\")`\n",
            "  \n",
            "/usr/local/lib/python3.6/dist-packages/ipykernel_launcher.py:15: UserWarning: Update your `Conv2D` call to the Keras 2 API: `Conv2D(16, (3, 3), activation=\"relu\")`\n",
            "  from ipykernel import kernelapp as app\n",
            "/usr/local/lib/python3.6/dist-packages/ipykernel_launcher.py:16: UserWarning: Update your `Conv2D` call to the Keras 2 API: `Conv2D(32, (3, 3), activation=\"relu\")`\n",
            "  app.launch_new_instance()\n"
          ],
          "name": "stderr"
        }
      ]
    },
    {
      "cell_type": "markdown",
      "metadata": {
        "id": "cSwaiuP2-pEv",
        "colab_type": "text"
      },
      "source": [
        "### Model Summary with architecture details"
      ]
    },
    {
      "cell_type": "code",
      "metadata": {
        "id": "TzdAYg1k9K7Z",
        "colab_type": "code",
        "outputId": "6d7b592c-60f0-4a48-9927-435bf2ddb323",
        "colab": {
          "base_uri": "https://localhost:8080/",
          "height": 590
        }
      },
      "source": [
        "model.summary()"
      ],
      "execution_count": 771,
      "outputs": [
        {
          "output_type": "stream",
          "text": [
            "_________________________________________________________________\n",
            "Layer (type)                 Output Shape              Param #   \n",
            "=================================================================\n",
            "conv2d_2545 (Conv2D)         (None, 26, 26, 16)        160       \n",
            "_________________________________________________________________\n",
            "conv2d_2546 (Conv2D)         (None, 24, 24, 16)        2320      \n",
            "_________________________________________________________________\n",
            "conv2d_2547 (Conv2D)         (None, 22, 22, 16)        2320      \n",
            "_________________________________________________________________\n",
            "max_pooling2d_491 (MaxPoolin (None, 11, 11, 16)        0         \n",
            "_________________________________________________________________\n",
            "conv2d_2548 (Conv2D)         (None, 11, 11, 8)         136       \n",
            "_________________________________________________________________\n",
            "conv2d_2549 (Conv2D)         (None, 9, 9, 8)           584       \n",
            "_________________________________________________________________\n",
            "conv2d_2550 (Conv2D)         (None, 7, 7, 16)          1168      \n",
            "_________________________________________________________________\n",
            "conv2d_2551 (Conv2D)         (None, 5, 5, 16)          2320      \n",
            "_________________________________________________________________\n",
            "conv2d_2552 (Conv2D)         (None, 3, 3, 16)          2320      \n",
            "_________________________________________________________________\n",
            "conv2d_2553 (Conv2D)         (None, 1, 1, 32)          4640      \n",
            "_________________________________________________________________\n",
            "conv2d_2554 (Conv2D)         (None, 1, 1, 10)          330       \n",
            "_________________________________________________________________\n",
            "flatten_273 (Flatten)        (None, 10)                0         \n",
            "_________________________________________________________________\n",
            "activation_273 (Activation)  (None, 10)                0         \n",
            "=================================================================\n",
            "Total params: 16,298\n",
            "Trainable params: 16,298\n",
            "Non-trainable params: 0\n",
            "_________________________________________________________________\n"
          ],
          "name": "stdout"
        }
      ]
    },
    {
      "cell_type": "markdown",
      "metadata": {
        "id": "k667f350-qbL",
        "colab_type": "text"
      },
      "source": [
        "### Configuring the remaining hyperparameters for model like loss function, optimizer and evalution metric."
      ]
    },
    {
      "cell_type": "code",
      "metadata": {
        "id": "Zp6SuGrL9M3h",
        "colab_type": "code",
        "colab": {}
      },
      "source": [
        "model.compile(loss='categorical_crossentropy',\n",
        "             optimizer='adam',\n",
        "             metrics=['accuracy'])"
      ],
      "execution_count": 0,
      "outputs": []
    },
    {
      "cell_type": "markdown",
      "metadata": {
        "id": "8PFrcNG8-rTL",
        "colab_type": "text"
      },
      "source": [
        "###Begin the model training by assigning batch_size(No. of images processed simultaneously) and epochs(A single cycle through all the training data )"
      ]
    },
    {
      "cell_type": "code",
      "metadata": {
        "id": "4xWoKhPY9Of5",
        "colab_type": "code",
        "outputId": "4318fcfe-1e38-47d9-89bb-b44a4ccd54a8",
        "colab": {
          "base_uri": "https://localhost:8080/",
          "height": 416
        }
      },
      "source": [
        "model.fit(X_train, Y_train, batch_size=32, nb_epoch=10, verbose=1)"
      ],
      "execution_count": 773,
      "outputs": [
        {
          "output_type": "stream",
          "text": [
            "/usr/local/lib/python3.6/dist-packages/ipykernel_launcher.py:1: UserWarning: The `nb_epoch` argument in `fit` has been renamed `epochs`.\n",
            "  \"\"\"Entry point for launching an IPython kernel.\n"
          ],
          "name": "stderr"
        },
        {
          "output_type": "stream",
          "text": [
            "Epoch 1/10\n",
            "60000/60000 [==============================] - 32s 540us/step - loss: 0.2630 - acc: 0.9187\n",
            "Epoch 2/10\n",
            "60000/60000 [==============================] - 21s 357us/step - loss: 0.0953 - acc: 0.9703\n",
            "Epoch 3/10\n",
            "60000/60000 [==============================] - 21s 357us/step - loss: 0.0692 - acc: 0.9784\n",
            "Epoch 4/10\n",
            "60000/60000 [==============================] - 21s 357us/step - loss: 0.0574 - acc: 0.9818\n",
            "Epoch 5/10\n",
            "60000/60000 [==============================] - 22s 358us/step - loss: 0.0466 - acc: 0.9854\n",
            "Epoch 6/10\n",
            "60000/60000 [==============================] - 21s 355us/step - loss: 0.0410 - acc: 0.9870\n",
            "Epoch 7/10\n",
            "60000/60000 [==============================] - 22s 360us/step - loss: 0.0358 - acc: 0.9883\n",
            "Epoch 8/10\n",
            "60000/60000 [==============================] - 21s 356us/step - loss: 0.0332 - acc: 0.9896\n",
            "Epoch 9/10\n",
            "60000/60000 [==============================] - 21s 357us/step - loss: 0.0317 - acc: 0.9900\n",
            "Epoch 10/10\n",
            "60000/60000 [==============================] - 21s 356us/step - loss: 0.0284 - acc: 0.9912\n"
          ],
          "name": "stdout"
        },
        {
          "output_type": "execute_result",
          "data": {
            "text/plain": [
              "<keras.callbacks.History at 0x7f99dac6e780>"
            ]
          },
          "metadata": {
            "tags": []
          },
          "execution_count": 773
        }
      ]
    },
    {
      "cell_type": "markdown",
      "metadata": {
        "id": "axaV8UUJ-sFD",
        "colab_type": "text"
      },
      "source": [
        "### Calculate the validation score"
      ]
    },
    {
      "cell_type": "code",
      "metadata": {
        "id": "AtsH-lLk-eLb",
        "colab_type": "code",
        "colab": {}
      },
      "source": [
        "score = model.evaluate(X_test, Y_test, verbose=0)"
      ],
      "execution_count": 0,
      "outputs": []
    },
    {
      "cell_type": "markdown",
      "metadata": {
        "id": "oa3cc_5N-tEk",
        "colab_type": "text"
      },
      "source": [
        "### Show the *validation* score"
      ]
    },
    {
      "cell_type": "code",
      "metadata": {
        "id": "mkX8JMv79q9r",
        "colab_type": "code",
        "outputId": "551374b2-4bd4-453e-b565-3b5af27e47e0",
        "colab": {
          "base_uri": "https://localhost:8080/",
          "height": 34
        }
      },
      "source": [
        "print(score)"
      ],
      "execution_count": 775,
      "outputs": [
        {
          "output_type": "stream",
          "text": [
            "[0.03775609024292644, 0.9895]\n"
          ],
          "name": "stdout"
        }
      ]
    },
    {
      "cell_type": "markdown",
      "metadata": {
        "id": "kDydXL1h-t4K",
        "colab_type": "text"
      },
      "source": [
        "### Predict the label for the test images"
      ]
    },
    {
      "cell_type": "code",
      "metadata": {
        "id": "OCWoJkwE9suh",
        "colab_type": "code",
        "colab": {}
      },
      "source": [
        "y_pred = model.predict(X_test)"
      ],
      "execution_count": 0,
      "outputs": []
    },
    {
      "cell_type": "markdown",
      "metadata": {
        "id": "Tkwy9aVE-uvq",
        "colab_type": "text"
      },
      "source": [
        "### Compare the prediction to the ground truth"
      ]
    },
    {
      "cell_type": "code",
      "metadata": {
        "id": "Ym7iCFBm9uBs",
        "colab_type": "code",
        "outputId": "72718c0d-7525-4c85-8a0d-9930406270b2",
        "colab": {
          "base_uri": "https://localhost:8080/",
          "height": 347
        }
      },
      "source": [
        "print(y_pred[:9])\n",
        "print(y_test[:9])"
      ],
      "execution_count": 17,
      "outputs": [
        {
          "output_type": "stream",
          "text": [
            "[[5.4103373e-17 9.9250139e-17 7.0478498e-11 8.1431937e-09 1.5371267e-18\n",
            "  3.4065495e-16 1.3831200e-28 1.0000000e+00 1.1632747e-12 3.7444594e-13]\n",
            " [1.5590016e-12 1.0376795e-12 1.0000000e+00 1.3377038e-15 2.8307490e-25\n",
            "  6.9740182e-16 5.9095062e-10 2.2700881e-26 6.3319745e-14 4.5974378e-19]\n",
            " [1.2110499e-06 9.9998736e-01 6.1550900e-06 1.1299691e-09 3.5312692e-06\n",
            "  4.4639861e-09 1.3871329e-07 9.0033097e-08 1.3943900e-06 1.8434924e-09]\n",
            " [9.9999988e-01 1.1971662e-17 1.3369107e-07 2.6846032e-16 2.1086121e-20\n",
            "  2.3474397e-14 2.1216487e-11 1.4248144e-12 2.4958965e-11 1.6649597e-13]\n",
            " [1.7903410e-13 1.2011289e-15 2.2280582e-11 5.9111292e-14 1.0000000e+00\n",
            "  3.4044075e-15 1.7284326e-14 1.6666581e-11 5.4078575e-11 5.4786269e-09]\n",
            " [3.7510932e-09 9.9998844e-01 3.8921334e-07 9.0481378e-10 1.7510017e-06\n",
            "  4.8054938e-10 1.4774745e-09 1.3920518e-06 8.0737564e-06 3.3634670e-08]\n",
            " [1.8485475e-21 5.2460904e-14 7.2022327e-10 3.4573816e-11 9.9993944e-01\n",
            "  4.1310418e-08 1.9495927e-18 9.5341868e-10 5.8626250e-05 1.9671363e-06]\n",
            " [5.2200362e-24 2.6387623e-10 5.1746238e-13 5.4871893e-12 2.7306805e-06\n",
            "  3.7726682e-08 4.4211277e-21 2.5793859e-14 4.4704188e-10 9.9999726e-01]\n",
            " [1.1665879e-08 2.4995681e-24 7.1926683e-12 2.6121528e-15 5.2074334e-12\n",
            "  7.7027690e-01 2.2969852e-01 1.7669635e-17 2.4579409e-05 8.1937324e-10]]\n",
            "[7 2 1 0 4 1 4 9 5]\n"
          ],
          "name": "stdout"
        }
      ]
    },
    {
      "cell_type": "markdown",
      "metadata": {
        "id": "Jq1FeWTz-vjW",
        "colab_type": "text"
      },
      "source": [
        "### Saving layer names in a dict datatype so that we can later use it for visualization."
      ]
    },
    {
      "cell_type": "code",
      "metadata": {
        "id": "CT--y98_dr2T",
        "colab_type": "code",
        "colab": {}
      },
      "source": [
        "layer_dict = dict([(layer.name, layer) for layer in model.layers])"
      ],
      "execution_count": 0,
      "outputs": []
    },
    {
      "cell_type": "markdown",
      "metadata": {
        "id": "gbyMd_EQ-wrP",
        "colab_type": "text"
      },
      "source": [
        "### Code to Visualise the kernel extracted features of a particular layer and input images."
      ]
    },
    {
      "cell_type": "code",
      "metadata": {
        "id": "2GY4Upv4dsUR",
        "colab_type": "code",
        "outputId": "b26a5089-8126-4cdf-b2ee-f58963224df4",
        "colab": {
          "base_uri": "https://localhost:8080/",
          "height": 837
        }
      },
      "source": [
        "import numpy as np\n",
        "from matplotlib import pyplot as plt\n",
        "from keras import backend as K\n",
        "%matplotlib inline\n",
        "# util function to convert a tensor into a valid image\n",
        "def deprocess_image(x):\n",
        "    # normalize tensor: center on 0., ensure std is 0.1\n",
        "    x -= x.mean()\n",
        "    x /= (x.std() + 1e-5)\n",
        "    x *= 0.1\n",
        "\n",
        "    # clip to [0, 1]\n",
        "    x += 0.5\n",
        "    x = np.clip(x, 0, 1)\n",
        "\n",
        "    # convert to RGB array\n",
        "    x *= 255\n",
        "    #x = x.transpose((1, 2, 0))\n",
        "    x = np.clip(x, 0, 255).astype('uint8')\n",
        "    return x\n",
        "\n",
        "def vis_img_in_filter(img = np.array(X_train[2]).reshape((1, 28, 28, 1)).astype(np.float64), \n",
        "                      layer_name = 'conv2d_1'):\n",
        "    layer_output = layer_dict[layer_name].output\n",
        "    img_ascs = list()\n",
        "    for filter_index in range(layer_output.shape[3]):\n",
        "        # build a loss function that maximizes the activation\n",
        "        # of the nth filter of the layer considered\n",
        "        loss = K.mean(layer_output[:, :, :, filter_index])\n",
        "\n",
        "        # compute the gradient of the input picture wrt this loss\n",
        "        grads = K.gradients(loss, model.input)[0]\n",
        "\n",
        "        # normalization trick: we normalize the gradient\n",
        "        grads /= (K.sqrt(K.mean(K.square(grads))) + 1e-5)\n",
        "\n",
        "        # this function returns the loss and grads given the input picture\n",
        "        iterate = K.function([model.input], [loss, grads])\n",
        "\n",
        "        # step size for gradient ascent\n",
        "        step = 5.\n",
        "\n",
        "        img_asc = np.array(img)\n",
        "        # run gradient ascent for 20 steps\n",
        "        for i in range(20):\n",
        "            loss_value, grads_value = iterate([img_asc])\n",
        "            img_asc += grads_value * step\n",
        "\n",
        "        img_asc = img_asc[0]\n",
        "        img_ascs.append(deprocess_image(img_asc).reshape((28, 28)))\n",
        "        \n",
        "    if layer_output.shape[3] >= 35:\n",
        "        plot_x, plot_y = 6, 6\n",
        "    elif layer_output.shape[3] >= 23:\n",
        "        plot_x, plot_y = 4, 6\n",
        "    elif layer_output.shape[3] >= 11:\n",
        "        plot_x, plot_y = 2, 6\n",
        "    else:\n",
        "        plot_x, plot_y = 1, 2\n",
        "    fig, ax = plt.subplots(plot_x, plot_y, figsize = (12, 12))\n",
        "    ax[0, 0].imshow(img.reshape((28, 28)), cmap = 'gray')\n",
        "    ax[0, 0].set_title('Input image')\n",
        "    fig.suptitle('Input image and %s filters' % (layer_name,))\n",
        "    fig.tight_layout(pad = 0.3, rect = [0, 0, 0.9, 0.9])\n",
        "    for (x, y) in [(i, j) for i in range(plot_x) for j in range(plot_y)]:\n",
        "        if x == 0 and y == 0:\n",
        "            continue\n",
        "        ax[x, y].imshow(img_ascs[x * plot_y + y - 1], cmap = 'gray')\n",
        "        ax[x, y].set_title('filter %d' % (x * plot_y + y - 1))\n",
        "\n",
        "vis_img_in_filter()"
      ],
      "execution_count": 20,
      "outputs": [
        {
          "output_type": "display_data",
          "data": {
            "image/png": "[encoded data removed]",
            "text/plain": [
              "<Figure size 864x864 with 24 Axes>"
            ]
          },
          "metadata": {
            "tags": []
          }
        }
      ]
    },
    {
      "cell_type": "code",
      "metadata": {
        "colab_type": "code",
        "id": "0gK7b23OaEZ1",
        "colab": {}
      },
      "source": [
        ""
      ],
      "execution_count": 0,
      "outputs": []
    }
  ]
}