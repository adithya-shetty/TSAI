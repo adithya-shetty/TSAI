{
  "nbformat": 4,
  "nbformat_minor": 0,
  "metadata": {
    "colab": {
      "name": "Architecture_Basics.ipynb",
      "version": "0.3.2",
      "provenance": [],
      "collapsed_sections": []
    },
    "kernelspec": {
      "name": "python3",
      "display_name": "Python 3"
    },
    "accelerator": "GPU"
  },
  "cells": [
    {
      "cell_type": "markdown",
      "metadata": {
        "id": "aNyZv-Ec52ot",
        "colab_type": "text"
      },
      "source": [
        "# **Import Libraries and modules**"
      ]
    },
    {
      "cell_type": "markdown",
      "metadata": {
        "id": "VuGWcUSJ-efk",
        "colab_type": "text"
      },
      "source": [
        "### Install Keras module for python and import it to run basic keras functions for model building."
      ]
    },
    {
      "cell_type": "code",
      "metadata": {
        "id": "3m3w1Cw49Zkt",
        "colab_type": "code",
        "colab": {}
      },
      "source": [
        "# https://keras.io/\n",
        "!pip install -q keras\n",
        "import keras"
      ],
      "execution_count": 0,
      "outputs": []
    },
    {
      "cell_type": "markdown",
      "metadata": {
        "id": "i-wujMov-fPZ",
        "colab_type": "text"
      },
      "source": [
        "### Import Numpy library which is usually used to store data. Also import other support libraries in keras for model building and predefined dataset loading."
      ]
    },
    {
      "cell_type": "code",
      "metadata": {
        "id": "Eso6UHE080D4",
        "colab_type": "code",
        "colab": {}
      },
      "source": [
        "import numpy as np\n",
        "\n",
        "from keras.models import Sequential\n",
        "from keras.layers import Dense, Dropout, Activation, Flatten, Add\n",
        "from keras.layers import Convolution2D, MaxPooling2D\n",
        "from keras.utils import np_utils\n",
        "\n",
        "from keras.datasets import mnist"
      ],
      "execution_count": 0,
      "outputs": []
    },
    {
      "cell_type": "markdown",
      "metadata": {
        "id": "zByEi95J86RD",
        "colab_type": "text"
      },
      "source": [
        "### Load pre-shuffled MNIST data into train and test sets"
      ]
    },
    {
      "cell_type": "code",
      "metadata": {
        "id": "7eRM0QWN83PV",
        "colab_type": "code",
        "outputId": "aaedca40-a5a3-4d27-b3ba-967cbb00aa3f",
        "colab": {
          "base_uri": "https://localhost:8080/",
          "height": 52
        }
      },
      "source": [
        "(X_train, y_train), (X_test, y_test) = mnist.load_data()"
      ],
      "execution_count": 0,
      "outputs": [
        {
          "output_type": "stream",
          "text": [
            "Downloading data from https://s3.amazonaws.com/img-datasets/mnist.npz\n",
            "11493376/11490434 [==============================] - 2s 0us/step\n"
          ],
          "name": "stdout"
        }
      ]
    },
    {
      "cell_type": "markdown",
      "metadata": {
        "id": "Zz4pK7Cf-i21",
        "colab_type": "text"
      },
      "source": [
        "### Matplotlib is a visualization tool of python which can be used to plot graphs and display images. Here we first print the total number of images used for training. Then import matplotlib library and show the first training image."
      ]
    },
    {
      "cell_type": "code",
      "metadata": {
        "id": "4a4Be72j8-ZC",
        "colab_type": "code",
        "outputId": "39d90162-28ba-4718-9ca7-81b691786147",
        "colab": {
          "base_uri": "https://localhost:8080/",
          "height": 304
        }
      },
      "source": [
        "print (X_train.shape)\n",
        "from matplotlib import pyplot as plt\n",
        "%matplotlib inline\n",
        "plt.imshow(X_train[0])"
      ],
      "execution_count": 0,
      "outputs": [
        {
          "output_type": "stream",
          "text": [
            "(60000, 28, 28)\n"
          ],
          "name": "stdout"
        },
        {
          "output_type": "execute_result",
          "data": {
            "text/plain": [
              "<matplotlib.image.AxesImage at 0x7f726e284b70>"
            ]
          },
          "metadata": {
            "tags": []
          },
          "execution_count": 5
        },
        {
          "output_type": "display_data",
          "data": {
            "image/png": "[encoded data removed]",
            "text/plain": [
              "<Figure size 432x288 with 1 Axes>"
            ]
          },
          "metadata": {
            "tags": []
          }
        }
      ]
    },
    {
      "cell_type": "markdown",
      "metadata": {
        "id": "I4F7Bxaa-jsy",
        "colab_type": "text"
      },
      "source": [
        "### As the dataset contains single channel images, we reshape array to correct the input channel dimension."
      ]
    },
    {
      "cell_type": "code",
      "metadata": {
        "id": "dkmprriw9AnZ",
        "colab_type": "code",
        "colab": {}
      },
      "source": [
        "X_train = X_train.reshape(X_train.shape[0], 28, 28,1)\n",
        "X_test = X_test.reshape(X_test.shape[0], 28, 28,1)"
      ],
      "execution_count": 0,
      "outputs": []
    },
    {
      "cell_type": "markdown",
      "metadata": {
        "id": "Yw4zfyXA-lMg",
        "colab_type": "text"
      },
      "source": [
        "### Normalize values between 0 to 1"
      ]
    },
    {
      "cell_type": "code",
      "metadata": {
        "id": "X2m4YS4E9CRh",
        "colab_type": "code",
        "colab": {}
      },
      "source": [
        "X_train = X_train.astype('float32')\n",
        "X_test = X_test.astype('float32')\n",
        "X_train /= 255\n",
        "X_test /= 255"
      ],
      "execution_count": 0,
      "outputs": []
    },
    {
      "cell_type": "markdown",
      "metadata": {
        "id": "rH6kaAt2-mH1",
        "colab_type": "text"
      },
      "source": [
        "### Show labels of last 10 train data"
      ]
    },
    {
      "cell_type": "code",
      "metadata": {
        "id": "0Mn0vAYD9DvB",
        "colab_type": "code",
        "outputId": "1dc38b5f-0893-45d8-ed76-fec259b83e69",
        "colab": {
          "base_uri": "https://localhost:8080/",
          "height": 34
        }
      },
      "source": [
        "y_train[:10]"
      ],
      "execution_count": 0,
      "outputs": [
        {
          "output_type": "execute_result",
          "data": {
            "text/plain": [
              "array([5, 0, 4, 1, 9, 2, 1, 3, 1, 4], dtype=uint8)"
            ]
          },
          "metadata": {
            "tags": []
          },
          "execution_count": 8
        }
      ]
    },
    {
      "cell_type": "markdown",
      "metadata": {
        "id": "CR-bHYIT-m3E",
        "colab_type": "text"
      },
      "source": [
        "### Convert 1-dimensional class arrays to 10-dimensional class matrices"
      ]
    },
    {
      "cell_type": "code",
      "metadata": {
        "id": "ZG8JiXR39FHC",
        "colab_type": "code",
        "colab": {}
      },
      "source": [
        "# Convert 1-dimensional class arrays to 10-dimensional class matrices\n",
        "Y_train = np_utils.to_categorical(y_train, 10)\n",
        "Y_test = np_utils.to_categorical(y_test, 10)"
      ],
      "execution_count": 0,
      "outputs": []
    },
    {
      "cell_type": "markdown",
      "metadata": {
        "id": "M2HoAuIP-nfv",
        "colab_type": "text"
      },
      "source": [
        "### Show the matrix converted labels of last 10 images"
      ]
    },
    {
      "cell_type": "code",
      "metadata": {
        "id": "fYlFRvKS9HMB",
        "colab_type": "code",
        "outputId": "960de895-eb66-4fe0-8290-6dc8e18a83df",
        "colab": {
          "base_uri": "https://localhost:8080/",
          "height": 191
        }
      },
      "source": [
        "Y_train[:10]\n"
      ],
      "execution_count": 0,
      "outputs": [
        {
          "output_type": "execute_result",
          "data": {
            "text/plain": [
              "array([[0., 0., 0., 0., 0., 1., 0., 0., 0., 0.],\n",
              "       [1., 0., 0., 0., 0., 0., 0., 0., 0., 0.],\n",
              "       [0., 0., 0., 0., 1., 0., 0., 0., 0., 0.],\n",
              "       [0., 1., 0., 0., 0., 0., 0., 0., 0., 0.],\n",
              "       [0., 0., 0., 0., 0., 0., 0., 0., 0., 1.],\n",
              "       [0., 0., 1., 0., 0., 0., 0., 0., 0., 0.],\n",
              "       [0., 1., 0., 0., 0., 0., 0., 0., 0., 0.],\n",
              "       [0., 0., 0., 1., 0., 0., 0., 0., 0., 0.],\n",
              "       [0., 1., 0., 0., 0., 0., 0., 0., 0., 0.],\n",
              "       [0., 0., 0., 0., 1., 0., 0., 0., 0., 0.]], dtype=float32)"
            ]
          },
          "metadata": {
            "tags": []
          },
          "execution_count": 10
        }
      ]
    },
    {
      "cell_type": "markdown",
      "metadata": {
        "id": "sq69nxr7-oW_",
        "colab_type": "text"
      },
      "source": [
        "### Vanilla Network\n",
        "**Expectations:**\n",
        "\n",
        "\n",
        "*   Have high parameters\n",
        "*   Low validation accuracy\n",
        "\n",
        "\n"
      ]
    },
    {
      "cell_type": "code",
      "metadata": {
        "id": "kG4I_hr4wwhF",
        "colab_type": "code",
        "colab": {
          "base_uri": "https://localhost:8080/",
          "height": 734
        },
        "outputId": "027b48a1-753e-4e2b-bdb8-5d10a2af6dfd"
      },
      "source": [
        "from keras.layers import Activation\n",
        "model = Sequential()\n",
        " \n",
        "model.add(Convolution2D(16, 3, 3, activation='relu', input_shape=(28,28,1))) #26\n",
        "model.add(Convolution2D(32, 3, 3, activation='relu')) #24\n",
        "\n",
        "model.add(MaxPooling2D(pool_size=(2, 2)))#12\n",
        "model.add(Convolution2D(16, 1, 1, activation='relu')) #12\n",
        "\n",
        "model.add(Convolution2D(32, 3, 3, activation='relu'))#10\n",
        "model.add(Convolution2D(64, 3, 3, activation='relu'))#8\n",
        "model.add(Convolution2D(64, 3, 3, activation='relu'))#6\n",
        "\n",
        "model.add(Convolution2D(10, 6, 6))\n",
        "#keras.layers.AveragePooling2D(pool_size=(4, 4))\n",
        "#model.add(BatchNormalization())\n",
        "#model.add(Dropout(0.1))\n",
        "\n",
        "\n",
        "model.add(Flatten())\n",
        "model.add(Activation('softmax'))\n",
        "\n",
        "\n",
        "model.summary()"
      ],
      "execution_count": 158,
      "outputs": [
        {
          "output_type": "stream",
          "text": [
            "_________________________________________________________________\n",
            "Layer (type)                 Output Shape              Param #   \n",
            "=================================================================\n",
            "conv2d_449 (Conv2D)          (None, 26, 26, 16)        160       \n",
            "_________________________________________________________________\n",
            "conv2d_450 (Conv2D)          (None, 24, 24, 32)        4640      \n",
            "_________________________________________________________________\n",
            "max_pooling2d_64 (MaxPooling (None, 12, 12, 32)        0         \n",
            "_________________________________________________________________\n",
            "conv2d_451 (Conv2D)          (None, 12, 12, 16)        528       \n",
            "_________________________________________________________________\n",
            "conv2d_452 (Conv2D)          (None, 10, 10, 32)        4640      \n",
            "_________________________________________________________________\n",
            "conv2d_453 (Conv2D)          (None, 8, 8, 64)          18496     \n",
            "_________________________________________________________________\n",
            "conv2d_454 (Conv2D)          (None, 6, 6, 64)          36928     \n",
            "_________________________________________________________________\n",
            "conv2d_455 (Conv2D)          (None, 1, 1, 10)          23050     \n",
            "_________________________________________________________________\n",
            "flatten_64 (Flatten)         (None, 10)                0         \n",
            "_________________________________________________________________\n",
            "activation_64 (Activation)   (None, 10)                0         \n",
            "=================================================================\n",
            "Total params: 88,442\n",
            "Trainable params: 88,442\n",
            "Non-trainable params: 0\n",
            "_________________________________________________________________\n"
          ],
          "name": "stdout"
        },
        {
          "output_type": "stream",
          "text": [
            "/usr/local/lib/python3.6/dist-packages/ipykernel_launcher.py:4: UserWarning: Update your `Conv2D` call to the Keras 2 API: `Conv2D(16, (3, 3), activation=\"relu\", input_shape=(28, 28, 1...)`\n",
            "  after removing the cwd from sys.path.\n",
            "/usr/local/lib/python3.6/dist-packages/ipykernel_launcher.py:5: UserWarning: Update your `Conv2D` call to the Keras 2 API: `Conv2D(32, (3, 3), activation=\"relu\")`\n",
            "  \"\"\"\n",
            "/usr/local/lib/python3.6/dist-packages/ipykernel_launcher.py:8: UserWarning: Update your `Conv2D` call to the Keras 2 API: `Conv2D(16, (1, 1), activation=\"relu\")`\n",
            "  \n",
            "/usr/local/lib/python3.6/dist-packages/ipykernel_launcher.py:10: UserWarning: Update your `Conv2D` call to the Keras 2 API: `Conv2D(32, (3, 3), activation=\"relu\")`\n",
            "  # Remove the CWD from sys.path while we load stuff.\n",
            "/usr/local/lib/python3.6/dist-packages/ipykernel_launcher.py:11: UserWarning: Update your `Conv2D` call to the Keras 2 API: `Conv2D(64, (3, 3), activation=\"relu\")`\n",
            "  # This is added back by InteractiveShellApp.init_path()\n",
            "/usr/local/lib/python3.6/dist-packages/ipykernel_launcher.py:12: UserWarning: Update your `Conv2D` call to the Keras 2 API: `Conv2D(64, (3, 3), activation=\"relu\")`\n",
            "  if sys.path[0] == '':\n",
            "/usr/local/lib/python3.6/dist-packages/ipykernel_launcher.py:14: UserWarning: Update your `Conv2D` call to the Keras 2 API: `Conv2D(10, (6, 6))`\n",
            "  \n"
          ],
          "name": "stderr"
        }
      ]
    },
    {
      "cell_type": "markdown",
      "metadata": {
        "id": "iN5MQLm6I2ob",
        "colab_type": "text"
      },
      "source": [
        "#### Configuring the remaining hyperparameters for model like loss function, optimizer and run training."
      ]
    },
    {
      "cell_type": "code",
      "metadata": {
        "id": "OSVXwNk1I1dO",
        "colab_type": "code",
        "colab": {
          "base_uri": "https://localhost:8080/",
          "height": 391
        },
        "outputId": "0d0f152b-a784-47b6-9bdc-9d4d10e382da"
      },
      "source": [
        "model.compile(loss='categorical_crossentropy',\n",
        "             optimizer='adam',\n",
        "             metrics=['accuracy'])\n",
        "model.fit(X_train, Y_train, batch_size=32, epochs=10, verbose=1, validation_data=(X_test, Y_test))"
      ],
      "execution_count": 159,
      "outputs": [
        {
          "output_type": "stream",
          "text": [
            "Train on 60000 samples, validate on 10000 samples\n",
            "Epoch 1/10\n",
            "60000/60000 [==============================] - 34s 568us/step - loss: 0.1407 - acc: 0.9567 - val_loss: 0.0561 - val_acc: 0.9825\n",
            "Epoch 2/10\n",
            "60000/60000 [==============================] - 20s 341us/step - loss: 0.0447 - acc: 0.9857 - val_loss: 0.0445 - val_acc: 0.9853\n",
            "Epoch 3/10\n",
            "60000/60000 [==============================] - 20s 335us/step - loss: 0.0331 - acc: 0.9900 - val_loss: 0.0357 - val_acc: 0.9893\n",
            "Epoch 4/10\n",
            "60000/60000 [==============================] - 20s 336us/step - loss: 0.0256 - acc: 0.9921 - val_loss: 0.0272 - val_acc: 0.9898\n",
            "Epoch 5/10\n",
            "60000/60000 [==============================] - 20s 337us/step - loss: 0.0209 - acc: 0.9936 - val_loss: 0.0242 - val_acc: 0.9919\n",
            "Epoch 6/10\n",
            "60000/60000 [==============================] - 20s 334us/step - loss: 0.0168 - acc: 0.9947 - val_loss: 0.0354 - val_acc: 0.9893\n",
            "Epoch 7/10\n",
            "60000/60000 [==============================] - 20s 330us/step - loss: 0.0157 - acc: 0.9948 - val_loss: 0.0251 - val_acc: 0.9922\n",
            "Epoch 8/10\n",
            "60000/60000 [==============================] - 20s 329us/step - loss: 0.0117 - acc: 0.9966 - val_loss: 0.0466 - val_acc: 0.9888\n",
            "Epoch 9/10\n",
            "60000/60000 [==============================] - 20s 328us/step - loss: 0.0113 - acc: 0.9963 - val_loss: 0.0295 - val_acc: 0.9918\n",
            "Epoch 10/10\n",
            "60000/60000 [==============================] - 20s 326us/step - loss: 0.0097 - acc: 0.9972 - val_loss: 0.0335 - val_acc: 0.9919\n"
          ],
          "name": "stdout"
        },
        {
          "output_type": "execute_result",
          "data": {
            "text/plain": [
              "<keras.callbacks.History at 0x7f71b850d9e8>"
            ]
          },
          "metadata": {
            "tags": []
          },
          "execution_count": 159
        }
      ]
    },
    {
      "cell_type": "markdown",
      "metadata": {
        "id": "yhrXvI9BL8T4",
        "colab_type": "text"
      },
      "source": [
        "###Result :\n",
        "**Max val. accuracy**: 0.9922\n",
        "**Parameters**: 88k\n",
        "####*Next Goal*: Reduce parameters below 15k"
      ]
    },
    {
      "cell_type": "markdown",
      "metadata": {
        "id": "3H2ELMq-NMET",
        "colab_type": "text"
      },
      "source": [
        "###First Improvement\n",
        "\n",
        "\n",
        "*   Reduce kernel size\n",
        "*   Increase batch size, epochs\n",
        "\n",
        "**Expectations:**\n",
        "\n",
        "\n",
        "*   Reduced parameters\n",
        "*   Higher validation accuracy\n",
        "\n",
        "\n",
        "\n",
        "\n",
        "\n"
      ]
    },
    {
      "cell_type": "code",
      "metadata": {
        "id": "CtJ8T_doN7fM",
        "colab_type": "code",
        "colab": {
          "base_uri": "https://localhost:8080/",
          "height": 734
        },
        "outputId": "44cc8c15-28ea-482b-8e4a-6e50372c04e2"
      },
      "source": [
        "from keras.layers import Activation\n",
        "model = Sequential()\n",
        " \n",
        "model.add(Convolution2D(10, 3, 3, activation='relu', input_shape=(28,28,1))) #26\n",
        "model.add(Convolution2D(16, 3, 3, activation='relu')) #24\n",
        "\n",
        "model.add(MaxPooling2D(pool_size=(2, 2)))#12\n",
        "model.add(Convolution2D(10, 1, 1, activation='relu')) #12\n",
        "\n",
        "model.add(Convolution2D(8, 3, 3, activation='relu'))#10\n",
        "model.add(Convolution2D(16, 3, 3, activation='relu'))#8\n",
        "model.add(Convolution2D(16, 3, 3, activation='relu'))#6\n",
        "\n",
        "model.add(Convolution2D(10, 6, 6))\n",
        "#keras.layers.AveragePooling2D(pool_size=(4, 4))\n",
        "#model.add(BatchNormalization())\n",
        "#model.add(Dropout(0.1))\n",
        "\n",
        "\n",
        "model.add(Flatten())\n",
        "model.add(Activation('softmax'))\n",
        "\n",
        "\n",
        "model.summary()"
      ],
      "execution_count": 160,
      "outputs": [
        {
          "output_type": "stream",
          "text": [
            "_________________________________________________________________\n",
            "Layer (type)                 Output Shape              Param #   \n",
            "=================================================================\n",
            "conv2d_456 (Conv2D)          (None, 26, 26, 10)        100       \n",
            "_________________________________________________________________\n",
            "conv2d_457 (Conv2D)          (None, 24, 24, 16)        1456      \n",
            "_________________________________________________________________\n",
            "max_pooling2d_65 (MaxPooling (None, 12, 12, 16)        0         \n",
            "_________________________________________________________________\n",
            "conv2d_458 (Conv2D)          (None, 12, 12, 10)        170       \n",
            "_________________________________________________________________\n",
            "conv2d_459 (Conv2D)          (None, 10, 10, 8)         728       \n",
            "_________________________________________________________________\n",
            "conv2d_460 (Conv2D)          (None, 8, 8, 16)          1168      \n",
            "_________________________________________________________________\n",
            "conv2d_461 (Conv2D)          (None, 6, 6, 16)          2320      \n",
            "_________________________________________________________________\n",
            "conv2d_462 (Conv2D)          (None, 1, 1, 10)          5770      \n",
            "_________________________________________________________________\n",
            "flatten_65 (Flatten)         (None, 10)                0         \n",
            "_________________________________________________________________\n",
            "activation_65 (Activation)   (None, 10)                0         \n",
            "=================================================================\n",
            "Total params: 11,712\n",
            "Trainable params: 11,712\n",
            "Non-trainable params: 0\n",
            "_________________________________________________________________\n"
          ],
          "name": "stdout"
        },
        {
          "output_type": "stream",
          "text": [
            "/usr/local/lib/python3.6/dist-packages/ipykernel_launcher.py:4: UserWarning: Update your `Conv2D` call to the Keras 2 API: `Conv2D(10, (3, 3), activation=\"relu\", input_shape=(28, 28, 1...)`\n",
            "  after removing the cwd from sys.path.\n",
            "/usr/local/lib/python3.6/dist-packages/ipykernel_launcher.py:5: UserWarning: Update your `Conv2D` call to the Keras 2 API: `Conv2D(16, (3, 3), activation=\"relu\")`\n",
            "  \"\"\"\n",
            "/usr/local/lib/python3.6/dist-packages/ipykernel_launcher.py:8: UserWarning: Update your `Conv2D` call to the Keras 2 API: `Conv2D(10, (1, 1), activation=\"relu\")`\n",
            "  \n",
            "/usr/local/lib/python3.6/dist-packages/ipykernel_launcher.py:10: UserWarning: Update your `Conv2D` call to the Keras 2 API: `Conv2D(8, (3, 3), activation=\"relu\")`\n",
            "  # Remove the CWD from sys.path while we load stuff.\n",
            "/usr/local/lib/python3.6/dist-packages/ipykernel_launcher.py:11: UserWarning: Update your `Conv2D` call to the Keras 2 API: `Conv2D(16, (3, 3), activation=\"relu\")`\n",
            "  # This is added back by InteractiveShellApp.init_path()\n",
            "/usr/local/lib/python3.6/dist-packages/ipykernel_launcher.py:12: UserWarning: Update your `Conv2D` call to the Keras 2 API: `Conv2D(16, (3, 3), activation=\"relu\")`\n",
            "  if sys.path[0] == '':\n",
            "/usr/local/lib/python3.6/dist-packages/ipykernel_launcher.py:14: UserWarning: Update your `Conv2D` call to the Keras 2 API: `Conv2D(10, (6, 6))`\n",
            "  \n"
          ],
          "name": "stderr"
        }
      ]
    },
    {
      "cell_type": "markdown",
      "metadata": {
        "id": "xZ_TVgfDOAin",
        "colab_type": "text"
      },
      "source": [
        "#### Configuring the remaining hyperparameters for model like loss function, optimizer and run training.\n",
        "\n"
      ]
    },
    {
      "cell_type": "code",
      "metadata": {
        "id": "XrOZQBf0OE8E",
        "colab_type": "code",
        "colab": {
          "base_uri": "https://localhost:8080/",
          "height": 561
        },
        "outputId": "78ad71c2-cafa-41bd-85ff-47580e9c195e"
      },
      "source": [
        "model.compile(loss='categorical_crossentropy',\n",
        "             optimizer='adam',\n",
        "             metrics=['accuracy'])\n",
        "model.fit(X_train, Y_train, batch_size=128, epochs=15, verbose=1, validation_data=(X_test, Y_test))"
      ],
      "execution_count": 161,
      "outputs": [
        {
          "output_type": "stream",
          "text": [
            "Train on 60000 samples, validate on 10000 samples\n",
            "Epoch 1/15\n",
            "60000/60000 [==============================] - 19s 324us/step - loss: 0.3236 - acc: 0.9005 - val_loss: 0.1022 - val_acc: 0.9675\n",
            "Epoch 2/15\n",
            "60000/60000 [==============================] - 5s 90us/step - loss: 0.0936 - acc: 0.9717 - val_loss: 0.0800 - val_acc: 0.9741\n",
            "Epoch 3/15\n",
            "60000/60000 [==============================] - 5s 89us/step - loss: 0.0693 - acc: 0.9787 - val_loss: 0.0493 - val_acc: 0.9844\n",
            "Epoch 4/15\n",
            "60000/60000 [==============================] - 5s 89us/step - loss: 0.0551 - acc: 0.9837 - val_loss: 0.0446 - val_acc: 0.9864\n",
            "Epoch 5/15\n",
            "60000/60000 [==============================] - 5s 90us/step - loss: 0.0481 - acc: 0.9852 - val_loss: 0.0524 - val_acc: 0.9830\n",
            "Epoch 6/15\n",
            "60000/60000 [==============================] - 5s 90us/step - loss: 0.0414 - acc: 0.9873 - val_loss: 0.0417 - val_acc: 0.9863\n",
            "Epoch 7/15\n",
            "60000/60000 [==============================] - 5s 89us/step - loss: 0.0354 - acc: 0.9890 - val_loss: 0.0335 - val_acc: 0.9887\n",
            "Epoch 8/15\n",
            "60000/60000 [==============================] - 5s 89us/step - loss: 0.0339 - acc: 0.9894 - val_loss: 0.0349 - val_acc: 0.9894\n",
            "Epoch 9/15\n",
            "60000/60000 [==============================] - 5s 88us/step - loss: 0.0298 - acc: 0.9901 - val_loss: 0.0319 - val_acc: 0.9903\n",
            "Epoch 10/15\n",
            "60000/60000 [==============================] - 5s 89us/step - loss: 0.0276 - acc: 0.9908 - val_loss: 0.0320 - val_acc: 0.9894\n",
            "Epoch 11/15\n",
            "60000/60000 [==============================] - 5s 89us/step - loss: 0.0246 - acc: 0.9920 - val_loss: 0.0324 - val_acc: 0.9902\n",
            "Epoch 12/15\n",
            "60000/60000 [==============================] - 5s 88us/step - loss: 0.0231 - acc: 0.9923 - val_loss: 0.0327 - val_acc: 0.9893\n",
            "Epoch 13/15\n",
            "60000/60000 [==============================] - 5s 89us/step - loss: 0.0208 - acc: 0.9932 - val_loss: 0.0377 - val_acc: 0.9883\n",
            "Epoch 14/15\n",
            "60000/60000 [==============================] - 5s 88us/step - loss: 0.0195 - acc: 0.9936 - val_loss: 0.0311 - val_acc: 0.9900\n",
            "Epoch 15/15\n",
            "60000/60000 [==============================] - 5s 88us/step - loss: 0.0180 - acc: 0.9939 - val_loss: 0.0385 - val_acc: 0.9883\n"
          ],
          "name": "stdout"
        },
        {
          "output_type": "execute_result",
          "data": {
            "text/plain": [
              "<keras.callbacks.History at 0x7f71b7e0f6d8>"
            ]
          },
          "metadata": {
            "tags": []
          },
          "execution_count": 161
        }
      ]
    },
    {
      "cell_type": "markdown",
      "metadata": {
        "id": "OM3R3zHcPd7O",
        "colab_type": "text"
      },
      "source": [
        "###Result :\n",
        "**Max val. accuracy**: 0.9903\n",
        "**Parameters:** 11k\n",
        "\n",
        "####*Next Goal*: Increase validation accuracy"
      ]
    },
    {
      "cell_type": "markdown",
      "metadata": {
        "id": "uXc94I8QQkep",
        "colab_type": "text"
      },
      "source": [
        "###Second Improvement\n",
        "\n",
        "*   Change learning rate dynamically\n",
        "\n",
        "**Expectation:**\n",
        "\n",
        "\n",
        "*   Improvement in validation accuracy\n",
        "\n",
        "\n",
        "\n"
      ]
    },
    {
      "cell_type": "code",
      "metadata": {
        "id": "Yh5_AUhER86o",
        "colab_type": "code",
        "colab": {
          "base_uri": "https://localhost:8080/",
          "height": 734
        },
        "outputId": "0587288c-d554-426c-df66-0cb0eec89595"
      },
      "source": [
        "from keras.layers import Activation\n",
        "model = Sequential()\n",
        " \n",
        "model.add(Convolution2D(10, 3, 3, activation='relu', input_shape=(28,28,1))) #26\n",
        "model.add(Convolution2D(16, 3, 3, activation='relu')) #24\n",
        "\n",
        "model.add(MaxPooling2D(pool_size=(2, 2)))#12\n",
        "model.add(Convolution2D(10, 1, 1, activation='relu')) #12\n",
        "\n",
        "model.add(Convolution2D(8, 3, 3, activation='relu'))#10\n",
        "model.add(Convolution2D(16, 3, 3, activation='relu'))#8\n",
        "model.add(Convolution2D(16, 3, 3, activation='relu'))#6\n",
        "\n",
        "model.add(Convolution2D(10, 6, 6))\n",
        "#keras.layers.AveragePooling2D(pool_size=(4, 4))\n",
        "#model.add(BatchNormalization())\n",
        "#model.add(Dropout(0.1))\n",
        "\n",
        "\n",
        "model.add(Flatten())\n",
        "model.add(Activation('softmax'))\n",
        "\n",
        "\n",
        "model.summary()"
      ],
      "execution_count": 162,
      "outputs": [
        {
          "output_type": "stream",
          "text": [
            "_________________________________________________________________\n",
            "Layer (type)                 Output Shape              Param #   \n",
            "=================================================================\n",
            "conv2d_463 (Conv2D)          (None, 26, 26, 10)        100       \n",
            "_________________________________________________________________\n",
            "conv2d_464 (Conv2D)          (None, 24, 24, 16)        1456      \n",
            "_________________________________________________________________\n",
            "max_pooling2d_66 (MaxPooling (None, 12, 12, 16)        0         \n",
            "_________________________________________________________________\n",
            "conv2d_465 (Conv2D)          (None, 12, 12, 10)        170       \n",
            "_________________________________________________________________\n",
            "conv2d_466 (Conv2D)          (None, 10, 10, 8)         728       \n",
            "_________________________________________________________________\n",
            "conv2d_467 (Conv2D)          (None, 8, 8, 16)          1168      \n",
            "_________________________________________________________________\n",
            "conv2d_468 (Conv2D)          (None, 6, 6, 16)          2320      \n",
            "_________________________________________________________________\n",
            "conv2d_469 (Conv2D)          (None, 1, 1, 10)          5770      \n",
            "_________________________________________________________________\n",
            "flatten_66 (Flatten)         (None, 10)                0         \n",
            "_________________________________________________________________\n",
            "activation_66 (Activation)   (None, 10)                0         \n",
            "=================================================================\n",
            "Total params: 11,712\n",
            "Trainable params: 11,712\n",
            "Non-trainable params: 0\n",
            "_________________________________________________________________\n"
          ],
          "name": "stdout"
        },
        {
          "output_type": "stream",
          "text": [
            "/usr/local/lib/python3.6/dist-packages/ipykernel_launcher.py:4: UserWarning: Update your `Conv2D` call to the Keras 2 API: `Conv2D(10, (3, 3), activation=\"relu\", input_shape=(28, 28, 1...)`\n",
            "  after removing the cwd from sys.path.\n",
            "/usr/local/lib/python3.6/dist-packages/ipykernel_launcher.py:5: UserWarning: Update your `Conv2D` call to the Keras 2 API: `Conv2D(16, (3, 3), activation=\"relu\")`\n",
            "  \"\"\"\n",
            "/usr/local/lib/python3.6/dist-packages/ipykernel_launcher.py:8: UserWarning: Update your `Conv2D` call to the Keras 2 API: `Conv2D(10, (1, 1), activation=\"relu\")`\n",
            "  \n",
            "/usr/local/lib/python3.6/dist-packages/ipykernel_launcher.py:10: UserWarning: Update your `Conv2D` call to the Keras 2 API: `Conv2D(8, (3, 3), activation=\"relu\")`\n",
            "  # Remove the CWD from sys.path while we load stuff.\n",
            "/usr/local/lib/python3.6/dist-packages/ipykernel_launcher.py:11: UserWarning: Update your `Conv2D` call to the Keras 2 API: `Conv2D(16, (3, 3), activation=\"relu\")`\n",
            "  # This is added back by InteractiveShellApp.init_path()\n",
            "/usr/local/lib/python3.6/dist-packages/ipykernel_launcher.py:12: UserWarning: Update your `Conv2D` call to the Keras 2 API: `Conv2D(16, (3, 3), activation=\"relu\")`\n",
            "  if sys.path[0] == '':\n",
            "/usr/local/lib/python3.6/dist-packages/ipykernel_launcher.py:14: UserWarning: Update your `Conv2D` call to the Keras 2 API: `Conv2D(10, (6, 6))`\n",
            "  \n"
          ],
          "name": "stderr"
        }
      ]
    },
    {
      "cell_type": "markdown",
      "metadata": {
        "id": "k667f350-qbL",
        "colab_type": "text"
      },
      "source": [
        "#### Configuring the remaining hyperparameters for model like loss function, optimizer and run training."
      ]
    },
    {
      "cell_type": "code",
      "metadata": {
        "id": "Zp6SuGrL9M3h",
        "colab_type": "code",
        "outputId": "d52c4d85-9bbd-41b4-fbd1-2a707dfc3ee0",
        "colab": {
          "base_uri": "https://localhost:8080/",
          "height": 1000
        }
      },
      "source": [
        "from keras.optimizers import Adam\n",
        "from keras.callbacks import LearningRateScheduler\n",
        "def scheduler(epoch, lr):\n",
        "  return round(0.003 * 1/(1 + 0.319 * epoch), 10)\n",
        "\n",
        "model.compile(loss='categorical_crossentropy', optimizer=Adam(lr=0.003), metrics=['accuracy'])\n",
        "\n",
        "model.fit(X_train, Y_train, batch_size=128, epochs=15, verbose=1, validation_data=(X_test, Y_test), callbacks=[LearningRateScheduler(scheduler, verbose=1)])"
      ],
      "execution_count": 163,
      "outputs": [
        {
          "output_type": "stream",
          "text": [
            "Train on 60000 samples, validate on 10000 samples\n",
            "Epoch 1/15\n",
            "\n",
            "Epoch 00001: LearningRateScheduler setting learning rate to 0.003.\n",
            "60000/60000 [==============================] - 26s 433us/step - loss: 0.2436 - acc: 0.9243 - val_loss: 0.0769 - val_acc: 0.9752\n",
            "Epoch 2/15\n",
            "\n",
            "Epoch 00002: LearningRateScheduler setting learning rate to 0.0022744503.\n",
            "60000/60000 [==============================] - 5s 91us/step - loss: 0.0748 - acc: 0.9768 - val_loss: 0.0621 - val_acc: 0.9799\n",
            "Epoch 3/15\n",
            "\n",
            "Epoch 00003: LearningRateScheduler setting learning rate to 0.0018315018.\n",
            "60000/60000 [==============================] - 5s 90us/step - loss: 0.0522 - acc: 0.9839 - val_loss: 0.0470 - val_acc: 0.9849\n",
            "Epoch 4/15\n",
            "\n",
            "Epoch 00004: LearningRateScheduler setting learning rate to 0.0015329586.\n",
            "60000/60000 [==============================] - 5s 89us/step - loss: 0.0418 - acc: 0.9875 - val_loss: 0.0448 - val_acc: 0.9847\n",
            "Epoch 5/15\n",
            "\n",
            "Epoch 00005: LearningRateScheduler setting learning rate to 0.0013181019.\n",
            "60000/60000 [==============================] - 5s 89us/step - loss: 0.0354 - acc: 0.9886 - val_loss: 0.0359 - val_acc: 0.9877\n",
            "Epoch 6/15\n",
            "\n",
            "Epoch 00006: LearningRateScheduler setting learning rate to 0.0011560694.\n",
            "60000/60000 [==============================] - 5s 89us/step - loss: 0.0305 - acc: 0.9904 - val_loss: 0.0369 - val_acc: 0.9880\n",
            "Epoch 7/15\n",
            "\n",
            "Epoch 00007: LearningRateScheduler setting learning rate to 0.0010295127.\n",
            "60000/60000 [==============================] - 5s 90us/step - loss: 0.0258 - acc: 0.9918 - val_loss: 0.0396 - val_acc: 0.9873\n",
            "Epoch 8/15\n",
            "\n",
            "Epoch 00008: LearningRateScheduler setting learning rate to 0.0009279307.\n",
            "60000/60000 [==============================] - 5s 89us/step - loss: 0.0234 - acc: 0.9925 - val_loss: 0.0422 - val_acc: 0.9874\n",
            "Epoch 9/15\n",
            "\n",
            "Epoch 00009: LearningRateScheduler setting learning rate to 0.0008445946.\n",
            "60000/60000 [==============================] - 5s 90us/step - loss: 0.0204 - acc: 0.9933 - val_loss: 0.0422 - val_acc: 0.9877\n",
            "Epoch 10/15\n",
            "\n",
            "Epoch 00010: LearningRateScheduler setting learning rate to 0.0007749935.\n",
            "60000/60000 [==============================] - 5s 90us/step - loss: 0.0182 - acc: 0.9941 - val_loss: 0.0359 - val_acc: 0.9884\n",
            "Epoch 11/15\n",
            "\n",
            "Epoch 00011: LearningRateScheduler setting learning rate to 0.0007159905.\n",
            "60000/60000 [==============================] - 5s 89us/step - loss: 0.0155 - acc: 0.9953 - val_loss: 0.0396 - val_acc: 0.9877\n",
            "Epoch 12/15\n",
            "\n",
            "Epoch 00012: LearningRateScheduler setting learning rate to 0.000665336.\n",
            "60000/60000 [==============================] - 5s 91us/step - loss: 0.0136 - acc: 0.9958 - val_loss: 0.0417 - val_acc: 0.9883\n",
            "Epoch 13/15\n",
            "\n",
            "Epoch 00013: LearningRateScheduler setting learning rate to 0.0006213753.\n",
            "60000/60000 [==============================] - 5s 91us/step - loss: 0.0122 - acc: 0.9962 - val_loss: 0.0444 - val_acc: 0.9875\n",
            "Epoch 14/15\n",
            "\n",
            "Epoch 00014: LearningRateScheduler setting learning rate to 0.0005828638.\n",
            "60000/60000 [==============================] - 5s 89us/step - loss: 0.0106 - acc: 0.9966 - val_loss: 0.0404 - val_acc: 0.9885\n",
            "Epoch 15/15\n",
            "\n",
            "Epoch 00015: LearningRateScheduler setting learning rate to 0.0005488474.\n",
            "60000/60000 [==============================] - 5s 89us/step - loss: 0.0091 - acc: 0.9971 - val_loss: 0.0408 - val_acc: 0.9905\n"
          ],
          "name": "stdout"
        },
        {
          "output_type": "execute_result",
          "data": {
            "text/plain": [
              "<keras.callbacks.History at 0x7f71b7e20c18>"
            ]
          },
          "metadata": {
            "tags": []
          },
          "execution_count": 163
        }
      ]
    },
    {
      "cell_type": "markdown",
      "metadata": {
        "id": "xwbSeQFdSty8",
        "colab_type": "text"
      },
      "source": [
        "###Result :\n",
        "**Max val. accuracy:** 0.9905\n",
        "**Parameters:** 11k\n",
        "\n",
        "####*Next Goal:* Address Overfitting"
      ]
    },
    {
      "cell_type": "markdown",
      "metadata": {
        "id": "EA9y0qf4TonJ",
        "colab_type": "text"
      },
      "source": [
        "###Final Improvement\n",
        "\n",
        "*   Add Dropout for Regularization\n",
        "*   Add Batch normalization\n",
        "\n",
        "**Expectations:**\n",
        "\n",
        "*   Hopeful of getting accuracy above 99.4\n",
        "\n",
        "\n",
        "\n"
      ]
    },
    {
      "cell_type": "code",
      "metadata": {
        "id": "yGkKicb2VEkf",
        "colab_type": "code",
        "colab": {
          "base_uri": "https://localhost:8080/",
          "height": 904
        },
        "outputId": "3cd928de-d36d-4e6e-d7d6-447a52d6add3"
      },
      "source": [
        "from keras.layers import Activation\n",
        "model = Sequential()\n",
        " \n",
        "model.add(Convolution2D(10, 3, 3, activation='relu', input_shape=(28,28,1))) #26\n",
        "model.add(BatchNormalization())\n",
        "model.add(Convolution2D(16, 3, 3, activation='relu')) #24\n",
        "model.add(BatchNormalization())\n",
        "\n",
        "model.add(MaxPooling2D(pool_size=(2, 2)))#12\n",
        "model.add(Convolution2D(10, 1, 1, activation='relu')) #12\n",
        "\n",
        "model.add(Convolution2D(8, 3, 3, activation='relu'))#10\n",
        "model.add(BatchNormalization())\n",
        "model.add(Convolution2D(16, 3, 3, activation='relu'))#8\n",
        "model.add(BatchNormalization())\n",
        "model.add(Dropout(0.25))\n",
        "model.add(Convolution2D(16, 3, 3, activation='relu'))#6\n",
        "model.add(BatchNormalization())\n",
        "\n",
        "model.add(Convolution2D(10, 6, 6))\n",
        "#keras.layers.AveragePooling2D(pool_size=(4, 4))\n",
        "#model.add(BatchNormalization())\n",
        "#model.add(Dropout(0.1))\n",
        "\n",
        "\n",
        "model.add(Flatten())\n",
        "model.add(Activation('softmax'))\n",
        "\n",
        "\n",
        "model.summary()"
      ],
      "execution_count": 164,
      "outputs": [
        {
          "output_type": "stream",
          "text": [
            "/usr/local/lib/python3.6/dist-packages/ipykernel_launcher.py:4: UserWarning: Update your `Conv2D` call to the Keras 2 API: `Conv2D(10, (3, 3), activation=\"relu\", input_shape=(28, 28, 1...)`\n",
            "  after removing the cwd from sys.path.\n",
            "/usr/local/lib/python3.6/dist-packages/ipykernel_launcher.py:6: UserWarning: Update your `Conv2D` call to the Keras 2 API: `Conv2D(16, (3, 3), activation=\"relu\")`\n",
            "  \n",
            "/usr/local/lib/python3.6/dist-packages/ipykernel_launcher.py:10: UserWarning: Update your `Conv2D` call to the Keras 2 API: `Conv2D(10, (1, 1), activation=\"relu\")`\n",
            "  # Remove the CWD from sys.path while we load stuff.\n",
            "/usr/local/lib/python3.6/dist-packages/ipykernel_launcher.py:12: UserWarning: Update your `Conv2D` call to the Keras 2 API: `Conv2D(8, (3, 3), activation=\"relu\")`\n",
            "  if sys.path[0] == '':\n",
            "/usr/local/lib/python3.6/dist-packages/ipykernel_launcher.py:14: UserWarning: Update your `Conv2D` call to the Keras 2 API: `Conv2D(16, (3, 3), activation=\"relu\")`\n",
            "  \n"
          ],
          "name": "stderr"
        },
        {
          "output_type": "stream",
          "text": [
            "_________________________________________________________________\n",
            "Layer (type)                 Output Shape              Param #   \n",
            "=================================================================\n",
            "conv2d_470 (Conv2D)          (None, 26, 26, 10)        100       \n",
            "_________________________________________________________________\n",
            "batch_normalization_250 (Bat (None, 26, 26, 10)        40        \n",
            "_________________________________________________________________\n",
            "conv2d_471 (Conv2D)          (None, 24, 24, 16)        1456      \n",
            "_________________________________________________________________\n",
            "batch_normalization_251 (Bat (None, 24, 24, 16)        64        \n",
            "_________________________________________________________________\n",
            "max_pooling2d_67 (MaxPooling (None, 12, 12, 16)        0         \n",
            "_________________________________________________________________\n",
            "conv2d_472 (Conv2D)          (None, 12, 12, 10)        170       \n",
            "_________________________________________________________________\n",
            "conv2d_473 (Conv2D)          (None, 10, 10, 8)         728       \n",
            "_________________________________________________________________\n",
            "batch_normalization_252 (Bat (None, 10, 10, 8)         32        \n",
            "_________________________________________________________________\n",
            "conv2d_474 (Conv2D)          (None, 8, 8, 16)          1168      \n",
            "_________________________________________________________________\n",
            "batch_normalization_253 (Bat (None, 8, 8, 16)          64        \n",
            "_________________________________________________________________\n",
            "dropout_168 (Dropout)        (None, 8, 8, 16)          0         \n",
            "_________________________________________________________________\n",
            "conv2d_475 (Conv2D)          (None, 6, 6, 16)          2320      \n",
            "_________________________________________________________________\n",
            "batch_normalization_254 (Bat (None, 6, 6, 16)          64        \n",
            "_________________________________________________________________\n",
            "conv2d_476 (Conv2D)          (None, 1, 1, 10)          5770      \n",
            "_________________________________________________________________\n",
            "flatten_67 (Flatten)         (None, 10)                0         \n",
            "_________________________________________________________________\n",
            "activation_67 (Activation)   (None, 10)                0         \n",
            "=================================================================\n",
            "Total params: 11,976\n",
            "Trainable params: 11,844\n",
            "Non-trainable params: 132\n",
            "_________________________________________________________________\n"
          ],
          "name": "stdout"
        },
        {
          "output_type": "stream",
          "text": [
            "/usr/local/lib/python3.6/dist-packages/ipykernel_launcher.py:17: UserWarning: Update your `Conv2D` call to the Keras 2 API: `Conv2D(16, (3, 3), activation=\"relu\")`\n",
            "/usr/local/lib/python3.6/dist-packages/ipykernel_launcher.py:20: UserWarning: Update your `Conv2D` call to the Keras 2 API: `Conv2D(10, (6, 6))`\n"
          ],
          "name": "stderr"
        }
      ]
    },
    {
      "cell_type": "markdown",
      "metadata": {
        "id": "xNaYSByjWTaw",
        "colab_type": "text"
      },
      "source": [
        "#### Configuring the remaining hyperparameters for model like loss function, optimizer and run training."
      ]
    },
    {
      "cell_type": "code",
      "metadata": {
        "id": "UmIcc9JMWWKm",
        "colab_type": "code",
        "colab": {
          "base_uri": "https://localhost:8080/",
          "height": 1000
        },
        "outputId": "1994f3b2-2552-46cf-a070-379a6096b113"
      },
      "source": [
        "from keras.optimizers import Adam\n",
        "from keras.callbacks import LearningRateScheduler\n",
        "def scheduler(epoch, lr):\n",
        "  return round(0.003 * 1/(1 + 0.319 * epoch), 10)\n",
        "\n",
        "model.compile(loss='categorical_crossentropy', optimizer=Adam(lr=0.003), metrics=['accuracy'])\n",
        "\n",
        "model.fit(X_train, Y_train, batch_size=128, epochs=15, verbose=1, validation_data=(X_test, Y_test), callbacks=[LearningRateScheduler(scheduler, verbose=1)])"
      ],
      "execution_count": 165,
      "outputs": [
        {
          "output_type": "stream",
          "text": [
            "Train on 60000 samples, validate on 10000 samples\n",
            "Epoch 1/15\n",
            "\n",
            "Epoch 00001: LearningRateScheduler setting learning rate to 0.003.\n",
            "60000/60000 [==============================] - 29s 480us/step - loss: 0.1604 - acc: 0.9495 - val_loss: 0.0662 - val_acc: 0.9810\n",
            "Epoch 2/15\n",
            "\n",
            "Epoch 00002: LearningRateScheduler setting learning rate to 0.0022744503.\n",
            "60000/60000 [==============================] - 7s 117us/step - loss: 0.0546 - acc: 0.9831 - val_loss: 0.0463 - val_acc: 0.9865\n",
            "Epoch 3/15\n",
            "\n",
            "Epoch 00003: LearningRateScheduler setting learning rate to 0.0018315018.\n",
            "60000/60000 [==============================] - 7s 119us/step - loss: 0.0391 - acc: 0.9878 - val_loss: 0.0315 - val_acc: 0.9900\n",
            "Epoch 4/15\n",
            "\n",
            "Epoch 00004: LearningRateScheduler setting learning rate to 0.0015329586.\n",
            "60000/60000 [==============================] - 7s 120us/step - loss: 0.0329 - acc: 0.9898 - val_loss: 0.0330 - val_acc: 0.9892\n",
            "Epoch 5/15\n",
            "\n",
            "Epoch 00005: LearningRateScheduler setting learning rate to 0.0013181019.\n",
            "60000/60000 [==============================] - 7s 122us/step - loss: 0.0281 - acc: 0.9911 - val_loss: 0.0293 - val_acc: 0.9897\n",
            "Epoch 6/15\n",
            "\n",
            "Epoch 00006: LearningRateScheduler setting learning rate to 0.0011560694.\n",
            "60000/60000 [==============================] - 7s 119us/step - loss: 0.0247 - acc: 0.9920 - val_loss: 0.0309 - val_acc: 0.9905\n",
            "Epoch 7/15\n",
            "\n",
            "Epoch 00007: LearningRateScheduler setting learning rate to 0.0010295127.\n",
            "60000/60000 [==============================] - 7s 120us/step - loss: 0.0209 - acc: 0.9932 - val_loss: 0.0304 - val_acc: 0.9908\n",
            "Epoch 8/15\n",
            "\n",
            "Epoch 00008: LearningRateScheduler setting learning rate to 0.0009279307.\n",
            "60000/60000 [==============================] - 7s 120us/step - loss: 0.0196 - acc: 0.9937 - val_loss: 0.0266 - val_acc: 0.9916\n",
            "Epoch 9/15\n",
            "\n",
            "Epoch 00009: LearningRateScheduler setting learning rate to 0.0008445946.\n",
            "60000/60000 [==============================] - 7s 122us/step - loss: 0.0175 - acc: 0.9946 - val_loss: 0.0210 - val_acc: 0.9941\n",
            "Epoch 10/15\n",
            "\n",
            "Epoch 00010: LearningRateScheduler setting learning rate to 0.0007749935.\n",
            "60000/60000 [==============================] - 7s 120us/step - loss: 0.0159 - acc: 0.9947 - val_loss: 0.0216 - val_acc: 0.9930\n",
            "Epoch 11/15\n",
            "\n",
            "Epoch 00011: LearningRateScheduler setting learning rate to 0.0007159905.\n",
            "60000/60000 [==============================] - 7s 118us/step - loss: 0.0146 - acc: 0.9954 - val_loss: 0.0259 - val_acc: 0.9921\n",
            "Epoch 12/15\n",
            "\n",
            "Epoch 00012: LearningRateScheduler setting learning rate to 0.000665336.\n",
            "60000/60000 [==============================] - 7s 118us/step - loss: 0.0134 - acc: 0.9959 - val_loss: 0.0222 - val_acc: 0.9927\n",
            "Epoch 13/15\n",
            "\n",
            "Epoch 00013: LearningRateScheduler setting learning rate to 0.0006213753.\n",
            "60000/60000 [==============================] - 7s 121us/step - loss: 0.0129 - acc: 0.9958 - val_loss: 0.0214 - val_acc: 0.9938\n",
            "Epoch 14/15\n",
            "\n",
            "Epoch 00014: LearningRateScheduler setting learning rate to 0.0005828638.\n",
            "60000/60000 [==============================] - 7s 117us/step - loss: 0.0121 - acc: 0.9961 - val_loss: 0.0229 - val_acc: 0.9936\n",
            "Epoch 15/15\n",
            "\n",
            "Epoch 00015: LearningRateScheduler setting learning rate to 0.0005488474.\n",
            "60000/60000 [==============================] - 7s 117us/step - loss: 0.0110 - acc: 0.9965 - val_loss: 0.0234 - val_acc: 0.9933\n"
          ],
          "name": "stdout"
        },
        {
          "output_type": "execute_result",
          "data": {
            "text/plain": [
              "<keras.callbacks.History at 0x7f71b6fe58d0>"
            ]
          },
          "metadata": {
            "tags": []
          },
          "execution_count": 165
        }
      ]
    },
    {
      "cell_type": "markdown",
      "metadata": {
        "id": "Bf3q9Gz5XQRL",
        "colab_type": "text"
      },
      "source": [
        "###Result :\n",
        "**Max val. accuracy:** 0.9941 \n",
        "**Parameters:** 11k\n",
        "\n",
        "###*Goals Acheived in 9th Epoch*"
      ]
    },
    {
      "cell_type": "markdown",
      "metadata": {
        "id": "axaV8UUJ-sFD",
        "colab_type": "text"
      },
      "source": [
        "### Calculate the validation score"
      ]
    },
    {
      "cell_type": "code",
      "metadata": {
        "id": "AtsH-lLk-eLb",
        "colab_type": "code",
        "colab": {
          "base_uri": "https://localhost:8080/",
          "height": 34
        },
        "outputId": "fab6fb34-fb48-41de-d5b3-90fbf7c79960"
      },
      "source": [
        "score = model.evaluate(X_test, Y_test, verbose=0)\n",
        "print(score)"
      ],
      "execution_count": 166,
      "outputs": [
        {
          "output_type": "stream",
          "text": [
            "[0.023391957638942768, 0.9933]\n"
          ],
          "name": "stdout"
        }
      ]
    },
    {
      "cell_type": "markdown",
      "metadata": {
        "id": "kDydXL1h-t4K",
        "colab_type": "text"
      },
      "source": [
        "### Predict the label for the test images"
      ]
    },
    {
      "cell_type": "code",
      "metadata": {
        "id": "OCWoJkwE9suh",
        "colab_type": "code",
        "colab": {
          "base_uri": "https://localhost:8080/",
          "height": 493
        },
        "outputId": "b6d4d7ad-4836-49de-905b-93c580cfbdb4"
      },
      "source": [
        "y_pred = model.predict(X_test)\n",
        "print(y_pred[:9])\n",
        "print(y_test[:9])"
      ],
      "execution_count": 167,
      "outputs": [
        {
          "output_type": "stream",
          "text": [
            "[[1.31687395e-11 2.03458566e-08 4.01254070e-08 5.23186259e-08\n",
            "  2.50984292e-13 5.88469681e-12 3.55234261e-13 9.99999642e-01\n",
            "  3.26892097e-10 2.09893912e-07]\n",
            " [7.03695306e-08 6.20535303e-08 9.99999881e-01 1.11740944e-12\n",
            "  8.11071002e-11 2.68622066e-13 3.25813154e-08 1.01331039e-13\n",
            "  2.15821999e-10 4.91432253e-14]\n",
            " [1.54449464e-09 9.99997497e-01 3.67052948e-08 1.11970024e-08\n",
            "  1.81761936e-06 7.51524343e-10 3.82032482e-07 1.92344373e-07\n",
            "  7.45145030e-08 2.40392524e-08]\n",
            " [9.99988198e-01 1.39345979e-09 2.42583070e-07 1.70093291e-08\n",
            "  1.17296617e-08 7.23766718e-08 1.09256753e-05 3.87678423e-09\n",
            "  6.27894181e-08 5.68464714e-07]\n",
            " [5.11522248e-12 3.50892492e-12 2.30997461e-11 2.39487165e-14\n",
            "  1.00000000e+00 2.46858469e-14 9.25871324e-11 7.15978969e-12\n",
            "  1.63339893e-12 8.34226910e-09]\n",
            " [3.68760161e-11 9.99998808e-01 2.56535593e-08 1.73119560e-10\n",
            "  4.53679746e-07 1.78416049e-11 1.68966281e-08 6.85077794e-07\n",
            "  1.42756529e-09 9.13624731e-09]\n",
            " [8.27597406e-16 1.53214312e-08 3.32645397e-13 9.81852471e-15\n",
            "  9.99999642e-01 2.99523362e-12 1.12226980e-13 3.42961132e-10\n",
            "  3.59803778e-07 1.20518546e-08]\n",
            " [4.92011853e-09 1.83973903e-08 4.07282847e-08 3.50737679e-08\n",
            "  9.58828750e-05 1.27931816e-08 4.80936471e-12 1.64964518e-07\n",
            "  2.72808531e-08 9.99903798e-01]\n",
            " [9.67038432e-06 1.73596593e-09 3.54830902e-08 3.60711483e-09\n",
            "  2.59843946e-09 9.87601161e-01 8.40779580e-03 1.29932671e-11\n",
            "  3.97670828e-03 4.69588895e-06]]\n",
            "[7 2 1 0 4 1 4 9 5]\n"
          ],
          "name": "stdout"
        }
      ]
    },
    {
      "cell_type": "markdown",
      "metadata": {
        "id": "Jq1FeWTz-vjW",
        "colab_type": "text"
      },
      "source": [
        "### Saving layer names in a dict datatype so that we can later use it for visualization."
      ]
    },
    {
      "cell_type": "code",
      "metadata": {
        "id": "CT--y98_dr2T",
        "colab_type": "code",
        "colab": {}
      },
      "source": [
        "layer_dict = dict([(layer.name, layer) for layer in model.layers])"
      ],
      "execution_count": 0,
      "outputs": []
    },
    {
      "cell_type": "markdown",
      "metadata": {
        "id": "gbyMd_EQ-wrP",
        "colab_type": "text"
      },
      "source": [
        "### Code to Visualise the kernel extracted features of a particular layer and input images."
      ]
    },
    {
      "cell_type": "code",
      "metadata": {
        "id": "2GY4Upv4dsUR",
        "colab_type": "code",
        "colab": {
          "base_uri": "https://localhost:8080/",
          "height": 741
        },
        "outputId": "0356f827-b7fd-4e5a-bb82-9775632d2410"
      },
      "source": [
        "import numpy as np\n",
        "from matplotlib import pyplot as plt\n",
        "from keras import backend as K\n",
        "%matplotlib inline\n",
        "# util function to convert a tensor into a valid image\n",
        "def deprocess_image(x):\n",
        "    # normalize tensor: center on 0., ensure std is 0.1\n",
        "    x -= x.mean()\n",
        "    x /= (x.std() + 1e-5)\n",
        "    x *= 0.1\n",
        "\n",
        "    # clip to [0, 1]\n",
        "    x += 0.5\n",
        "    x = np.clip(x, 0, 1)\n",
        "\n",
        "    # convert to RGB array\n",
        "    x *= 255\n",
        "    #x = x.transpose((1, 2, 0))\n",
        "    x = np.clip(x, 0, 255).astype('uint8')\n",
        "    return x\n",
        "\n",
        "def vis_img_in_filter(img = np.array(X_train[2]).reshape((1, 28, 28, 1)).astype(np.float64), \n",
        "                      layer_name = 'conv2d_475'):\n",
        "    layer_output = layer_dict[layer_name].output\n",
        "    img_ascs = list()\n",
        "    for filter_index in range(layer_output.shape[3]):\n",
        "        # build a loss function that maximizes the activation\n",
        "        # of the nth filter of the layer considered\n",
        "        loss = K.mean(layer_output[:, :, :, filter_index])\n",
        "\n",
        "        # compute the gradient of the input picture wrt this loss\n",
        "        grads = K.gradients(loss, model.input)[0]\n",
        "\n",
        "        # normalization trick: we normalize the gradient\n",
        "        grads /= (K.sqrt(K.mean(K.square(grads))) + 1e-5)\n",
        "\n",
        "        # this function returns the loss and grads given the input picture\n",
        "        iterate = K.function([model.input], [loss, grads])\n",
        "\n",
        "        # step size for gradient ascent\n",
        "        step = 5.\n",
        "\n",
        "        img_asc = np.array(img)\n",
        "        # run gradient ascent for 20 steps\n",
        "        for i in range(20):\n",
        "            loss_value, grads_value = iterate([img_asc])\n",
        "            img_asc += grads_value * step\n",
        "\n",
        "        img_asc = img_asc[0]\n",
        "        img_ascs.append(deprocess_image(img_asc).reshape((28, 28)))\n",
        "        \n",
        "    if layer_output.shape[3] >= 35:\n",
        "        plot_x, plot_y = 6, 6\n",
        "    elif layer_output.shape[3] >= 23:\n",
        "        plot_x, plot_y = 4, 6\n",
        "    elif layer_output.shape[3] >= 11:\n",
        "        plot_x, plot_y = 2, 6\n",
        "    else:\n",
        "        plot_x, plot_y = 1, 2\n",
        "    fig, ax = plt.subplots(plot_x, plot_y, figsize = (12, 12))\n",
        "    ax[0, 0].imshow(img.reshape((28, 28)), cmap = 'gray')\n",
        "    ax[0, 0].set_title('Input image')\n",
        "    fig.suptitle('Input image and %s filters' % (layer_name,))\n",
        "    fig.tight_layout(pad = 0.3, rect = [0, 0, 0.9, 0.9])\n",
        "    for (x, y) in [(i, j) for i in range(plot_x) for j in range(plot_y)]:\n",
        "        if x == 0 and y == 0:\n",
        "            continue\n",
        "        ax[x, y].imshow(img_ascs[x * plot_y + y - 1], cmap = 'gray')\n",
        "        ax[x, y].set_title('filter %d' % (x * plot_y + y - 1))\n",
        "\n",
        "vis_img_in_filter()"
      ],
      "execution_count": 170,
      "outputs": [
        {
          "output_type": "display_data",
          "data": {
            "image/png": "[encoded data removed]",
            "text/plain": [
              "<Figure size 864x864 with 12 Axes>"
            ]
          },
          "metadata": {
            "tags": []
          }
        }
      ]
    }
  ]
}